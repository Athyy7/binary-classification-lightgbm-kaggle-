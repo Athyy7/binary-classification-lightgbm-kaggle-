{
  "nbformat": 4,
  "nbformat_minor": 0,
  "metadata": {
    "colab": {
      "provenance": []
    },
    "kernelspec": {
      "name": "python3",
      "display_name": "Python 3"
    },
    "language_info": {
      "name": "python"
    }
  },
  "cells": [
    {
      "cell_type": "code",
      "execution_count": 3,
      "metadata": {
        "colab": {
          "base_uri": "https://localhost:8080/"
        },
        "id": "0v6LAu7dZUT3",
        "outputId": "bd9b27f9-3239-4d51-cf4a-eebf7bd31d35"
      },
      "outputs": [
        {
          "output_type": "stream",
          "name": "stdout",
          "text": [
            "Requirement already satisfied: kaggle in /usr/local/lib/python3.12/dist-packages (1.7.4.5)\n",
            "Requirement already satisfied: bleach in /usr/local/lib/python3.12/dist-packages (from kaggle) (6.2.0)\n",
            "Requirement already satisfied: certifi>=14.05.14 in /usr/local/lib/python3.12/dist-packages (from kaggle) (2025.8.3)\n",
            "Requirement already satisfied: charset-normalizer in /usr/local/lib/python3.12/dist-packages (from kaggle) (3.4.3)\n",
            "Requirement already satisfied: idna in /usr/local/lib/python3.12/dist-packages (from kaggle) (3.10)\n",
            "Requirement already satisfied: protobuf in /usr/local/lib/python3.12/dist-packages (from kaggle) (5.29.5)\n",
            "Requirement already satisfied: python-dateutil>=2.5.3 in /usr/local/lib/python3.12/dist-packages (from kaggle) (2.9.0.post0)\n",
            "Requirement already satisfied: python-slugify in /usr/local/lib/python3.12/dist-packages (from kaggle) (8.0.4)\n",
            "Requirement already satisfied: requests in /usr/local/lib/python3.12/dist-packages (from kaggle) (2.32.4)\n",
            "Requirement already satisfied: setuptools>=21.0.0 in /usr/local/lib/python3.12/dist-packages (from kaggle) (75.2.0)\n",
            "Requirement already satisfied: six>=1.10 in /usr/local/lib/python3.12/dist-packages (from kaggle) (1.17.0)\n",
            "Requirement already satisfied: text-unidecode in /usr/local/lib/python3.12/dist-packages (from kaggle) (1.3)\n",
            "Requirement already satisfied: tqdm in /usr/local/lib/python3.12/dist-packages (from kaggle) (4.67.1)\n",
            "Requirement already satisfied: urllib3>=1.15.1 in /usr/local/lib/python3.12/dist-packages (from kaggle) (2.5.0)\n",
            "Requirement already satisfied: webencodings in /usr/local/lib/python3.12/dist-packages (from kaggle) (0.5.1)\n"
          ]
        }
      ],
      "source": [
        "pip install kaggle"
      ]
    },
    {
      "cell_type": "code",
      "source": [
        "from google.colab import files\n",
        "files.upload()  # uploaded kaggle.json\n",
        "\n",
        "!mkdir -p ~/.kaggle\n",
        "!cp kaggle.json ~/.kaggle/\n",
        "!chmod 600 ~/.kaggle/kaggle.json\n"
      ],
      "metadata": {
        "colab": {
          "base_uri": "https://localhost:8080/",
          "height": 73
        },
        "id": "4Qu4qadHbLDs",
        "outputId": "436e24b8-03d8-4362-c992-268ae53bc08c"
      },
      "execution_count": 2,
      "outputs": [
        {
          "output_type": "display_data",
          "data": {
            "text/plain": [
              "<IPython.core.display.HTML object>"
            ],
            "text/html": [
              "\n",
              "     <input type=\"file\" id=\"files-75a2b704-0de5-4d61-9e7f-454333cb877f\" name=\"files[]\" multiple disabled\n",
              "        style=\"border:none\" />\n",
              "     <output id=\"result-75a2b704-0de5-4d61-9e7f-454333cb877f\">\n",
              "      Upload widget is only available when the cell has been executed in the\n",
              "      current browser session. Please rerun this cell to enable.\n",
              "      </output>\n",
              "      <script>// Copyright 2017 Google LLC\n",
              "//\n",
              "// Licensed under the Apache License, Version 2.0 (the \"License\");\n",
              "// you may not use this file except in compliance with the License.\n",
              "// You may obtain a copy of the License at\n",
              "//\n",
              "//      http://www.apache.org/licenses/LICENSE-2.0\n",
              "//\n",
              "// Unless required by applicable law or agreed to in writing, software\n",
              "// distributed under the License is distributed on an \"AS IS\" BASIS,\n",
              "// WITHOUT WARRANTIES OR CONDITIONS OF ANY KIND, either express or implied.\n",
              "// See the License for the specific language governing permissions and\n",
              "// limitations under the License.\n",
              "\n",
              "/**\n",
              " * @fileoverview Helpers for google.colab Python module.\n",
              " */\n",
              "(function(scope) {\n",
              "function span(text, styleAttributes = {}) {\n",
              "  const element = document.createElement('span');\n",
              "  element.textContent = text;\n",
              "  for (const key of Object.keys(styleAttributes)) {\n",
              "    element.style[key] = styleAttributes[key];\n",
              "  }\n",
              "  return element;\n",
              "}\n",
              "\n",
              "// Max number of bytes which will be uploaded at a time.\n",
              "const MAX_PAYLOAD_SIZE = 100 * 1024;\n",
              "\n",
              "function _uploadFiles(inputId, outputId) {\n",
              "  const steps = uploadFilesStep(inputId, outputId);\n",
              "  const outputElement = document.getElementById(outputId);\n",
              "  // Cache steps on the outputElement to make it available for the next call\n",
              "  // to uploadFilesContinue from Python.\n",
              "  outputElement.steps = steps;\n",
              "\n",
              "  return _uploadFilesContinue(outputId);\n",
              "}\n",
              "\n",
              "// This is roughly an async generator (not supported in the browser yet),\n",
              "// where there are multiple asynchronous steps and the Python side is going\n",
              "// to poll for completion of each step.\n",
              "// This uses a Promise to block the python side on completion of each step,\n",
              "// then passes the result of the previous step as the input to the next step.\n",
              "function _uploadFilesContinue(outputId) {\n",
              "  const outputElement = document.getElementById(outputId);\n",
              "  const steps = outputElement.steps;\n",
              "\n",
              "  const next = steps.next(outputElement.lastPromiseValue);\n",
              "  return Promise.resolve(next.value.promise).then((value) => {\n",
              "    // Cache the last promise value to make it available to the next\n",
              "    // step of the generator.\n",
              "    outputElement.lastPromiseValue = value;\n",
              "    return next.value.response;\n",
              "  });\n",
              "}\n",
              "\n",
              "/**\n",
              " * Generator function which is called between each async step of the upload\n",
              " * process.\n",
              " * @param {string} inputId Element ID of the input file picker element.\n",
              " * @param {string} outputId Element ID of the output display.\n",
              " * @return {!Iterable<!Object>} Iterable of next steps.\n",
              " */\n",
              "function* uploadFilesStep(inputId, outputId) {\n",
              "  const inputElement = document.getElementById(inputId);\n",
              "  inputElement.disabled = false;\n",
              "\n",
              "  const outputElement = document.getElementById(outputId);\n",
              "  outputElement.innerHTML = '';\n",
              "\n",
              "  const pickedPromise = new Promise((resolve) => {\n",
              "    inputElement.addEventListener('change', (e) => {\n",
              "      resolve(e.target.files);\n",
              "    });\n",
              "  });\n",
              "\n",
              "  const cancel = document.createElement('button');\n",
              "  inputElement.parentElement.appendChild(cancel);\n",
              "  cancel.textContent = 'Cancel upload';\n",
              "  const cancelPromise = new Promise((resolve) => {\n",
              "    cancel.onclick = () => {\n",
              "      resolve(null);\n",
              "    };\n",
              "  });\n",
              "\n",
              "  // Wait for the user to pick the files.\n",
              "  const files = yield {\n",
              "    promise: Promise.race([pickedPromise, cancelPromise]),\n",
              "    response: {\n",
              "      action: 'starting',\n",
              "    }\n",
              "  };\n",
              "\n",
              "  cancel.remove();\n",
              "\n",
              "  // Disable the input element since further picks are not allowed.\n",
              "  inputElement.disabled = true;\n",
              "\n",
              "  if (!files) {\n",
              "    return {\n",
              "      response: {\n",
              "        action: 'complete',\n",
              "      }\n",
              "    };\n",
              "  }\n",
              "\n",
              "  for (const file of files) {\n",
              "    const li = document.createElement('li');\n",
              "    li.append(span(file.name, {fontWeight: 'bold'}));\n",
              "    li.append(span(\n",
              "        `(${file.type || 'n/a'}) - ${file.size} bytes, ` +\n",
              "        `last modified: ${\n",
              "            file.lastModifiedDate ? file.lastModifiedDate.toLocaleDateString() :\n",
              "                                    'n/a'} - `));\n",
              "    const percent = span('0% done');\n",
              "    li.appendChild(percent);\n",
              "\n",
              "    outputElement.appendChild(li);\n",
              "\n",
              "    const fileDataPromise = new Promise((resolve) => {\n",
              "      const reader = new FileReader();\n",
              "      reader.onload = (e) => {\n",
              "        resolve(e.target.result);\n",
              "      };\n",
              "      reader.readAsArrayBuffer(file);\n",
              "    });\n",
              "    // Wait for the data to be ready.\n",
              "    let fileData = yield {\n",
              "      promise: fileDataPromise,\n",
              "      response: {\n",
              "        action: 'continue',\n",
              "      }\n",
              "    };\n",
              "\n",
              "    // Use a chunked sending to avoid message size limits. See b/62115660.\n",
              "    let position = 0;\n",
              "    do {\n",
              "      const length = Math.min(fileData.byteLength - position, MAX_PAYLOAD_SIZE);\n",
              "      const chunk = new Uint8Array(fileData, position, length);\n",
              "      position += length;\n",
              "\n",
              "      const base64 = btoa(String.fromCharCode.apply(null, chunk));\n",
              "      yield {\n",
              "        response: {\n",
              "          action: 'append',\n",
              "          file: file.name,\n",
              "          data: base64,\n",
              "        },\n",
              "      };\n",
              "\n",
              "      let percentDone = fileData.byteLength === 0 ?\n",
              "          100 :\n",
              "          Math.round((position / fileData.byteLength) * 100);\n",
              "      percent.textContent = `${percentDone}% done`;\n",
              "\n",
              "    } while (position < fileData.byteLength);\n",
              "  }\n",
              "\n",
              "  // All done.\n",
              "  yield {\n",
              "    response: {\n",
              "      action: 'complete',\n",
              "    }\n",
              "  };\n",
              "}\n",
              "\n",
              "scope.google = scope.google || {};\n",
              "scope.google.colab = scope.google.colab || {};\n",
              "scope.google.colab._files = {\n",
              "  _uploadFiles,\n",
              "  _uploadFilesContinue,\n",
              "};\n",
              "})(self);\n",
              "</script> "
            ]
          },
          "metadata": {}
        },
        {
          "output_type": "stream",
          "name": "stdout",
          "text": [
            "Saving kaggle.json to kaggle.json\n"
          ]
        }
      ]
    },
    {
      "cell_type": "code",
      "source": [
        "!kaggle competitions download -c ch-26-mit-wpu\n"
      ],
      "metadata": {
        "colab": {
          "base_uri": "https://localhost:8080/"
        },
        "id": "_QtKnYnZbjaI",
        "outputId": "a5168c10-29ad-4b65-84c9-490a0e3f7de5"
      },
      "execution_count": 4,
      "outputs": [
        {
          "output_type": "stream",
          "name": "stdout",
          "text": [
            "Downloading ch-26-mit-wpu.zip to /content\n",
            "\r  0% 0.00/9.34M [00:00<?, ?B/s]\n",
            "\r100% 9.34M/9.34M [00:00<00:00, 674MB/s]\n"
          ]
        }
      ]
    },
    {
      "cell_type": "code",
      "source": [
        "!unzip ch-26-mit-wpu.zip -d dataset"
      ],
      "metadata": {
        "colab": {
          "base_uri": "https://localhost:8080/"
        },
        "id": "bN-LeJp1b6BI",
        "outputId": "5e3d04aa-603f-4728-cd02-4604dcac50de"
      },
      "execution_count": 5,
      "outputs": [
        {
          "output_type": "stream",
          "name": "stdout",
          "text": [
            "Archive:  ch-26-mit-wpu.zip\n",
            "  inflating: dataset/sample_submission.parquet  \n",
            "  inflating: dataset/test.parquet    \n",
            "  inflating: dataset/train.parquet   \n"
          ]
        }
      ]
    },
    {
      "cell_type": "markdown",
      "source": [
        "## **STEP 1: Setup & Data Loading**\n",
        "\n",
        "1. We first import standard libraries for data handling, visualization, and ML.\n",
        "\n",
        "2. The dataset is in Parquet format (optimized for large tabular data), so we load using pd.read_parquet().\n",
        "\n",
        "3. Check dataset structure"
      ],
      "metadata": {
        "id": "SGrNJDUVdElq"
      }
    },
    {
      "cell_type": "code",
      "source": [
        "# Importing necessary libraries\n",
        "import pandas as pd\n",
        "import numpy as np\n",
        "import matplotlib.pyplot as plt\n",
        "import seaborn as sns\n",
        "\n",
        "from sklearn.model_selection import train_test_split, cross_val_score, StratifiedKFold\n",
        "from sklearn.preprocessing import StandardScaler\n",
        "from sklearn.metrics import accuracy_score, precision_score, recall_score, f1_score, confusion_matrix, classification_report\n",
        "\n",
        "# Load the datasets\n",
        "train = pd.read_parquet(\"dataset/train.parquet\")\n",
        "test = pd.read_parquet(\"dataset/test.parquet\")\n",
        "sample_submission = pd.read_parquet(\"dataset/sample_submission.parquet\")\n",
        "\n",
        "# Basic info\n",
        "print(\"Train shape:\", train.shape)\n",
        "print(\"Test shape:\", test.shape)\n",
        "print(\"Sample submission shape:\", sample_submission.shape)\n",
        "\n",
        "# Check first few rows\n",
        "train.head()\n"
      ],
      "metadata": {
        "colab": {
          "base_uri": "https://localhost:8080/",
          "height": 258
        },
        "id": "qqXhfrbUdPuP",
        "outputId": "eb78df9d-4a55-4b40-ea64-d336448d2eb6"
      },
      "execution_count": 6,
      "outputs": [
        {
          "output_type": "stream",
          "name": "stdout",
          "text": [
            "Train shape: (1639424, 7)\n",
            "Test shape: (409856, 7)\n",
            "Sample submission shape: (50, 2)\n"
          ]
        },
        {
          "output_type": "execute_result",
          "data": {
            "text/plain": [
              "        Date        X1        X2   X3        X4        X5 target\n",
              "0 2020-12-16  1.518921  5.463154  1.0  2.718282  2.890372      0\n",
              "1 2020-12-16  1.546509  5.458010  1.0  2.718282  2.833213      1\n",
              "2 2020-12-16  1.645427  5.456560  1.0  7.389056  2.890372      1\n",
              "3 2020-12-16  1.652022  5.458479  1.0  2.718282  2.890372      1\n",
              "4 2020-12-16  1.695538  5.466709  1.0  2.718282  2.890372      0"
            ],
            "text/html": [
              "\n",
              "  <div id=\"df-1371259b-9a44-45b2-a8f1-e8d76a811db5\" class=\"colab-df-container\">\n",
              "    <div>\n",
              "<style scoped>\n",
              "    .dataframe tbody tr th:only-of-type {\n",
              "        vertical-align: middle;\n",
              "    }\n",
              "\n",
              "    .dataframe tbody tr th {\n",
              "        vertical-align: top;\n",
              "    }\n",
              "\n",
              "    .dataframe thead th {\n",
              "        text-align: right;\n",
              "    }\n",
              "</style>\n",
              "<table border=\"1\" class=\"dataframe\">\n",
              "  <thead>\n",
              "    <tr style=\"text-align: right;\">\n",
              "      <th></th>\n",
              "      <th>Date</th>\n",
              "      <th>X1</th>\n",
              "      <th>X2</th>\n",
              "      <th>X3</th>\n",
              "      <th>X4</th>\n",
              "      <th>X5</th>\n",
              "      <th>target</th>\n",
              "    </tr>\n",
              "  </thead>\n",
              "  <tbody>\n",
              "    <tr>\n",
              "      <th>0</th>\n",
              "      <td>2020-12-16</td>\n",
              "      <td>1.518921</td>\n",
              "      <td>5.463154</td>\n",
              "      <td>1.0</td>\n",
              "      <td>2.718282</td>\n",
              "      <td>2.890372</td>\n",
              "      <td>0</td>\n",
              "    </tr>\n",
              "    <tr>\n",
              "      <th>1</th>\n",
              "      <td>2020-12-16</td>\n",
              "      <td>1.546509</td>\n",
              "      <td>5.458010</td>\n",
              "      <td>1.0</td>\n",
              "      <td>2.718282</td>\n",
              "      <td>2.833213</td>\n",
              "      <td>1</td>\n",
              "    </tr>\n",
              "    <tr>\n",
              "      <th>2</th>\n",
              "      <td>2020-12-16</td>\n",
              "      <td>1.645427</td>\n",
              "      <td>5.456560</td>\n",
              "      <td>1.0</td>\n",
              "      <td>7.389056</td>\n",
              "      <td>2.890372</td>\n",
              "      <td>1</td>\n",
              "    </tr>\n",
              "    <tr>\n",
              "      <th>3</th>\n",
              "      <td>2020-12-16</td>\n",
              "      <td>1.652022</td>\n",
              "      <td>5.458479</td>\n",
              "      <td>1.0</td>\n",
              "      <td>2.718282</td>\n",
              "      <td>2.890372</td>\n",
              "      <td>1</td>\n",
              "    </tr>\n",
              "    <tr>\n",
              "      <th>4</th>\n",
              "      <td>2020-12-16</td>\n",
              "      <td>1.695538</td>\n",
              "      <td>5.466709</td>\n",
              "      <td>1.0</td>\n",
              "      <td>2.718282</td>\n",
              "      <td>2.890372</td>\n",
              "      <td>0</td>\n",
              "    </tr>\n",
              "  </tbody>\n",
              "</table>\n",
              "</div>\n",
              "    <div class=\"colab-df-buttons\">\n",
              "\n",
              "  <div class=\"colab-df-container\">\n",
              "    <button class=\"colab-df-convert\" onclick=\"convertToInteractive('df-1371259b-9a44-45b2-a8f1-e8d76a811db5')\"\n",
              "            title=\"Convert this dataframe to an interactive table.\"\n",
              "            style=\"display:none;\">\n",
              "\n",
              "  <svg xmlns=\"http://www.w3.org/2000/svg\" height=\"24px\" viewBox=\"0 -960 960 960\">\n",
              "    <path d=\"M120-120v-720h720v720H120Zm60-500h600v-160H180v160Zm220 220h160v-160H400v160Zm0 220h160v-160H400v160ZM180-400h160v-160H180v160Zm440 0h160v-160H620v160ZM180-180h160v-160H180v160Zm440 0h160v-160H620v160Z\"/>\n",
              "  </svg>\n",
              "    </button>\n",
              "\n",
              "  <style>\n",
              "    .colab-df-container {\n",
              "      display:flex;\n",
              "      gap: 12px;\n",
              "    }\n",
              "\n",
              "    .colab-df-convert {\n",
              "      background-color: #E8F0FE;\n",
              "      border: none;\n",
              "      border-radius: 50%;\n",
              "      cursor: pointer;\n",
              "      display: none;\n",
              "      fill: #1967D2;\n",
              "      height: 32px;\n",
              "      padding: 0 0 0 0;\n",
              "      width: 32px;\n",
              "    }\n",
              "\n",
              "    .colab-df-convert:hover {\n",
              "      background-color: #E2EBFA;\n",
              "      box-shadow: 0px 1px 2px rgba(60, 64, 67, 0.3), 0px 1px 3px 1px rgba(60, 64, 67, 0.15);\n",
              "      fill: #174EA6;\n",
              "    }\n",
              "\n",
              "    .colab-df-buttons div {\n",
              "      margin-bottom: 4px;\n",
              "    }\n",
              "\n",
              "    [theme=dark] .colab-df-convert {\n",
              "      background-color: #3B4455;\n",
              "      fill: #D2E3FC;\n",
              "    }\n",
              "\n",
              "    [theme=dark] .colab-df-convert:hover {\n",
              "      background-color: #434B5C;\n",
              "      box-shadow: 0px 1px 3px 1px rgba(0, 0, 0, 0.15);\n",
              "      filter: drop-shadow(0px 1px 2px rgba(0, 0, 0, 0.3));\n",
              "      fill: #FFFFFF;\n",
              "    }\n",
              "  </style>\n",
              "\n",
              "    <script>\n",
              "      const buttonEl =\n",
              "        document.querySelector('#df-1371259b-9a44-45b2-a8f1-e8d76a811db5 button.colab-df-convert');\n",
              "      buttonEl.style.display =\n",
              "        google.colab.kernel.accessAllowed ? 'block' : 'none';\n",
              "\n",
              "      async function convertToInteractive(key) {\n",
              "        const element = document.querySelector('#df-1371259b-9a44-45b2-a8f1-e8d76a811db5');\n",
              "        const dataTable =\n",
              "          await google.colab.kernel.invokeFunction('convertToInteractive',\n",
              "                                                    [key], {});\n",
              "        if (!dataTable) return;\n",
              "\n",
              "        const docLinkHtml = 'Like what you see? Visit the ' +\n",
              "          '<a target=\"_blank\" href=https://colab.research.google.com/notebooks/data_table.ipynb>data table notebook</a>'\n",
              "          + ' to learn more about interactive tables.';\n",
              "        element.innerHTML = '';\n",
              "        dataTable['output_type'] = 'display_data';\n",
              "        await google.colab.output.renderOutput(dataTable, element);\n",
              "        const docLink = document.createElement('div');\n",
              "        docLink.innerHTML = docLinkHtml;\n",
              "        element.appendChild(docLink);\n",
              "      }\n",
              "    </script>\n",
              "  </div>\n",
              "\n",
              "\n",
              "    <div id=\"df-f6643e9c-fe12-4239-be7e-079c853e5d16\">\n",
              "      <button class=\"colab-df-quickchart\" onclick=\"quickchart('df-f6643e9c-fe12-4239-be7e-079c853e5d16')\"\n",
              "                title=\"Suggest charts\"\n",
              "                style=\"display:none;\">\n",
              "\n",
              "<svg xmlns=\"http://www.w3.org/2000/svg\" height=\"24px\"viewBox=\"0 0 24 24\"\n",
              "     width=\"24px\">\n",
              "    <g>\n",
              "        <path d=\"M19 3H5c-1.1 0-2 .9-2 2v14c0 1.1.9 2 2 2h14c1.1 0 2-.9 2-2V5c0-1.1-.9-2-2-2zM9 17H7v-7h2v7zm4 0h-2V7h2v10zm4 0h-2v-4h2v4z\"/>\n",
              "    </g>\n",
              "</svg>\n",
              "      </button>\n",
              "\n",
              "<style>\n",
              "  .colab-df-quickchart {\n",
              "      --bg-color: #E8F0FE;\n",
              "      --fill-color: #1967D2;\n",
              "      --hover-bg-color: #E2EBFA;\n",
              "      --hover-fill-color: #174EA6;\n",
              "      --disabled-fill-color: #AAA;\n",
              "      --disabled-bg-color: #DDD;\n",
              "  }\n",
              "\n",
              "  [theme=dark] .colab-df-quickchart {\n",
              "      --bg-color: #3B4455;\n",
              "      --fill-color: #D2E3FC;\n",
              "      --hover-bg-color: #434B5C;\n",
              "      --hover-fill-color: #FFFFFF;\n",
              "      --disabled-bg-color: #3B4455;\n",
              "      --disabled-fill-color: #666;\n",
              "  }\n",
              "\n",
              "  .colab-df-quickchart {\n",
              "    background-color: var(--bg-color);\n",
              "    border: none;\n",
              "    border-radius: 50%;\n",
              "    cursor: pointer;\n",
              "    display: none;\n",
              "    fill: var(--fill-color);\n",
              "    height: 32px;\n",
              "    padding: 0;\n",
              "    width: 32px;\n",
              "  }\n",
              "\n",
              "  .colab-df-quickchart:hover {\n",
              "    background-color: var(--hover-bg-color);\n",
              "    box-shadow: 0 1px 2px rgba(60, 64, 67, 0.3), 0 1px 3px 1px rgba(60, 64, 67, 0.15);\n",
              "    fill: var(--button-hover-fill-color);\n",
              "  }\n",
              "\n",
              "  .colab-df-quickchart-complete:disabled,\n",
              "  .colab-df-quickchart-complete:disabled:hover {\n",
              "    background-color: var(--disabled-bg-color);\n",
              "    fill: var(--disabled-fill-color);\n",
              "    box-shadow: none;\n",
              "  }\n",
              "\n",
              "  .colab-df-spinner {\n",
              "    border: 2px solid var(--fill-color);\n",
              "    border-color: transparent;\n",
              "    border-bottom-color: var(--fill-color);\n",
              "    animation:\n",
              "      spin 1s steps(1) infinite;\n",
              "  }\n",
              "\n",
              "  @keyframes spin {\n",
              "    0% {\n",
              "      border-color: transparent;\n",
              "      border-bottom-color: var(--fill-color);\n",
              "      border-left-color: var(--fill-color);\n",
              "    }\n",
              "    20% {\n",
              "      border-color: transparent;\n",
              "      border-left-color: var(--fill-color);\n",
              "      border-top-color: var(--fill-color);\n",
              "    }\n",
              "    30% {\n",
              "      border-color: transparent;\n",
              "      border-left-color: var(--fill-color);\n",
              "      border-top-color: var(--fill-color);\n",
              "      border-right-color: var(--fill-color);\n",
              "    }\n",
              "    40% {\n",
              "      border-color: transparent;\n",
              "      border-right-color: var(--fill-color);\n",
              "      border-top-color: var(--fill-color);\n",
              "    }\n",
              "    60% {\n",
              "      border-color: transparent;\n",
              "      border-right-color: var(--fill-color);\n",
              "    }\n",
              "    80% {\n",
              "      border-color: transparent;\n",
              "      border-right-color: var(--fill-color);\n",
              "      border-bottom-color: var(--fill-color);\n",
              "    }\n",
              "    90% {\n",
              "      border-color: transparent;\n",
              "      border-bottom-color: var(--fill-color);\n",
              "    }\n",
              "  }\n",
              "</style>\n",
              "\n",
              "      <script>\n",
              "        async function quickchart(key) {\n",
              "          const quickchartButtonEl =\n",
              "            document.querySelector('#' + key + ' button');\n",
              "          quickchartButtonEl.disabled = true;  // To prevent multiple clicks.\n",
              "          quickchartButtonEl.classList.add('colab-df-spinner');\n",
              "          try {\n",
              "            const charts = await google.colab.kernel.invokeFunction(\n",
              "                'suggestCharts', [key], {});\n",
              "          } catch (error) {\n",
              "            console.error('Error during call to suggestCharts:', error);\n",
              "          }\n",
              "          quickchartButtonEl.classList.remove('colab-df-spinner');\n",
              "          quickchartButtonEl.classList.add('colab-df-quickchart-complete');\n",
              "        }\n",
              "        (() => {\n",
              "          let quickchartButtonEl =\n",
              "            document.querySelector('#df-f6643e9c-fe12-4239-be7e-079c853e5d16 button');\n",
              "          quickchartButtonEl.style.display =\n",
              "            google.colab.kernel.accessAllowed ? 'block' : 'none';\n",
              "        })();\n",
              "      </script>\n",
              "    </div>\n",
              "\n",
              "    </div>\n",
              "  </div>\n"
            ],
            "application/vnd.google.colaboratory.intrinsic+json": {
              "type": "dataframe",
              "variable_name": "train"
            }
          },
          "metadata": {},
          "execution_count": 6
        }
      ]
    },
    {
      "cell_type": "markdown",
      "source": [
        "## **STEP 2: EDA**"
      ],
      "metadata": {
        "id": "jbjpi0DteTfV"
      }
    },
    {
      "cell_type": "code",
      "source": [
        "# Checking overall structure of the dataset\n",
        "print(\"Dataset info:\")\n",
        "print(train.info())\n",
        "\n",
        "print(\"\\nSummary statistics:\")\n",
        "display(train.describe())"
      ],
      "metadata": {
        "colab": {
          "base_uri": "https://localhost:8080/",
          "height": 612
        },
        "id": "vEWJOiwreYiL",
        "outputId": "a77aa7c8-2500-4efa-be93-1f1c9763e17b"
      },
      "execution_count": 7,
      "outputs": [
        {
          "output_type": "stream",
          "name": "stdout",
          "text": [
            "Dataset info:\n",
            "<class 'pandas.core.frame.DataFrame'>\n",
            "RangeIndex: 1639424 entries, 0 to 1639423\n",
            "Data columns (total 7 columns):\n",
            " #   Column  Non-Null Count    Dtype         \n",
            "---  ------  --------------    -----         \n",
            " 0   Date    1639424 non-null  datetime64[ns]\n",
            " 1   X1      1639424 non-null  float64       \n",
            " 2   X2      1639424 non-null  float64       \n",
            " 3   X3      1639424 non-null  float64       \n",
            " 4   X4      1639424 non-null  float64       \n",
            " 5   X5      1639424 non-null  float64       \n",
            " 6   target  1639424 non-null  object        \n",
            "dtypes: datetime64[ns](1), float64(5), object(1)\n",
            "memory usage: 87.6+ MB\n",
            "None\n",
            "\n",
            "Summary statistics:\n"
          ]
        },
        {
          "output_type": "display_data",
          "data": {
            "text/plain": [
              "                                Date            X1            X2  \\\n",
              "count                        1639424  1.639424e+06  1.639424e+06   \n",
              "mean   2022-12-03 07:23:43.817145600  1.139258e+00  5.488189e+00   \n",
              "min              2020-12-16 00:00:00  1.000000e+00  5.412539e+00   \n",
              "25%              2021-12-10 00:00:00  1.049171e+00  5.480597e+00   \n",
              "50%              2022-11-30 00:00:00  1.105171e+00  5.488979e+00   \n",
              "75%              2023-11-23 00:00:00  1.214096e+00  5.496717e+00   \n",
              "max              2024-12-11 00:00:00  4.014850e+00  5.541852e+00   \n",
              "std                              NaN  1.391992e-01  1.342811e-02   \n",
              "\n",
              "                 X3            X4            X5  \n",
              "count  1.639424e+06  1.639424e+06  1.639424e+06  \n",
              "mean   4.110388e+32  2.706323e+29  1.187219e+00  \n",
              "min    1.000000e+00  1.000000e+00  0.000000e+00  \n",
              "25%    1.000000e+00  1.000000e+00  0.000000e+00  \n",
              "50%    1.000000e+00  1.000000e+00  6.931472e-01  \n",
              "75%    1.000000e+00  2.718282e+00  2.890372e+00  \n",
              "max    1.651636e+38  5.540622e+34  3.465736e+00  \n",
              "std    2.346156e+35  5.812988e+31  1.304814e+00  "
            ],
            "text/html": [
              "\n",
              "  <div id=\"df-35d44601-5018-4f00-a4e6-1b8a5c79279b\" class=\"colab-df-container\">\n",
              "    <div>\n",
              "<style scoped>\n",
              "    .dataframe tbody tr th:only-of-type {\n",
              "        vertical-align: middle;\n",
              "    }\n",
              "\n",
              "    .dataframe tbody tr th {\n",
              "        vertical-align: top;\n",
              "    }\n",
              "\n",
              "    .dataframe thead th {\n",
              "        text-align: right;\n",
              "    }\n",
              "</style>\n",
              "<table border=\"1\" class=\"dataframe\">\n",
              "  <thead>\n",
              "    <tr style=\"text-align: right;\">\n",
              "      <th></th>\n",
              "      <th>Date</th>\n",
              "      <th>X1</th>\n",
              "      <th>X2</th>\n",
              "      <th>X3</th>\n",
              "      <th>X4</th>\n",
              "      <th>X5</th>\n",
              "    </tr>\n",
              "  </thead>\n",
              "  <tbody>\n",
              "    <tr>\n",
              "      <th>count</th>\n",
              "      <td>1639424</td>\n",
              "      <td>1.639424e+06</td>\n",
              "      <td>1.639424e+06</td>\n",
              "      <td>1.639424e+06</td>\n",
              "      <td>1.639424e+06</td>\n",
              "      <td>1.639424e+06</td>\n",
              "    </tr>\n",
              "    <tr>\n",
              "      <th>mean</th>\n",
              "      <td>2022-12-03 07:23:43.817145600</td>\n",
              "      <td>1.139258e+00</td>\n",
              "      <td>5.488189e+00</td>\n",
              "      <td>4.110388e+32</td>\n",
              "      <td>2.706323e+29</td>\n",
              "      <td>1.187219e+00</td>\n",
              "    </tr>\n",
              "    <tr>\n",
              "      <th>min</th>\n",
              "      <td>2020-12-16 00:00:00</td>\n",
              "      <td>1.000000e+00</td>\n",
              "      <td>5.412539e+00</td>\n",
              "      <td>1.000000e+00</td>\n",
              "      <td>1.000000e+00</td>\n",
              "      <td>0.000000e+00</td>\n",
              "    </tr>\n",
              "    <tr>\n",
              "      <th>25%</th>\n",
              "      <td>2021-12-10 00:00:00</td>\n",
              "      <td>1.049171e+00</td>\n",
              "      <td>5.480597e+00</td>\n",
              "      <td>1.000000e+00</td>\n",
              "      <td>1.000000e+00</td>\n",
              "      <td>0.000000e+00</td>\n",
              "    </tr>\n",
              "    <tr>\n",
              "      <th>50%</th>\n",
              "      <td>2022-11-30 00:00:00</td>\n",
              "      <td>1.105171e+00</td>\n",
              "      <td>5.488979e+00</td>\n",
              "      <td>1.000000e+00</td>\n",
              "      <td>1.000000e+00</td>\n",
              "      <td>6.931472e-01</td>\n",
              "    </tr>\n",
              "    <tr>\n",
              "      <th>75%</th>\n",
              "      <td>2023-11-23 00:00:00</td>\n",
              "      <td>1.214096e+00</td>\n",
              "      <td>5.496717e+00</td>\n",
              "      <td>1.000000e+00</td>\n",
              "      <td>2.718282e+00</td>\n",
              "      <td>2.890372e+00</td>\n",
              "    </tr>\n",
              "    <tr>\n",
              "      <th>max</th>\n",
              "      <td>2024-12-11 00:00:00</td>\n",
              "      <td>4.014850e+00</td>\n",
              "      <td>5.541852e+00</td>\n",
              "      <td>1.651636e+38</td>\n",
              "      <td>5.540622e+34</td>\n",
              "      <td>3.465736e+00</td>\n",
              "    </tr>\n",
              "    <tr>\n",
              "      <th>std</th>\n",
              "      <td>NaN</td>\n",
              "      <td>1.391992e-01</td>\n",
              "      <td>1.342811e-02</td>\n",
              "      <td>2.346156e+35</td>\n",
              "      <td>5.812988e+31</td>\n",
              "      <td>1.304814e+00</td>\n",
              "    </tr>\n",
              "  </tbody>\n",
              "</table>\n",
              "</div>\n",
              "    <div class=\"colab-df-buttons\">\n",
              "\n",
              "  <div class=\"colab-df-container\">\n",
              "    <button class=\"colab-df-convert\" onclick=\"convertToInteractive('df-35d44601-5018-4f00-a4e6-1b8a5c79279b')\"\n",
              "            title=\"Convert this dataframe to an interactive table.\"\n",
              "            style=\"display:none;\">\n",
              "\n",
              "  <svg xmlns=\"http://www.w3.org/2000/svg\" height=\"24px\" viewBox=\"0 -960 960 960\">\n",
              "    <path d=\"M120-120v-720h720v720H120Zm60-500h600v-160H180v160Zm220 220h160v-160H400v160Zm0 220h160v-160H400v160ZM180-400h160v-160H180v160Zm440 0h160v-160H620v160ZM180-180h160v-160H180v160Zm440 0h160v-160H620v160Z\"/>\n",
              "  </svg>\n",
              "    </button>\n",
              "\n",
              "  <style>\n",
              "    .colab-df-container {\n",
              "      display:flex;\n",
              "      gap: 12px;\n",
              "    }\n",
              "\n",
              "    .colab-df-convert {\n",
              "      background-color: #E8F0FE;\n",
              "      border: none;\n",
              "      border-radius: 50%;\n",
              "      cursor: pointer;\n",
              "      display: none;\n",
              "      fill: #1967D2;\n",
              "      height: 32px;\n",
              "      padding: 0 0 0 0;\n",
              "      width: 32px;\n",
              "    }\n",
              "\n",
              "    .colab-df-convert:hover {\n",
              "      background-color: #E2EBFA;\n",
              "      box-shadow: 0px 1px 2px rgba(60, 64, 67, 0.3), 0px 1px 3px 1px rgba(60, 64, 67, 0.15);\n",
              "      fill: #174EA6;\n",
              "    }\n",
              "\n",
              "    .colab-df-buttons div {\n",
              "      margin-bottom: 4px;\n",
              "    }\n",
              "\n",
              "    [theme=dark] .colab-df-convert {\n",
              "      background-color: #3B4455;\n",
              "      fill: #D2E3FC;\n",
              "    }\n",
              "\n",
              "    [theme=dark] .colab-df-convert:hover {\n",
              "      background-color: #434B5C;\n",
              "      box-shadow: 0px 1px 3px 1px rgba(0, 0, 0, 0.15);\n",
              "      filter: drop-shadow(0px 1px 2px rgba(0, 0, 0, 0.3));\n",
              "      fill: #FFFFFF;\n",
              "    }\n",
              "  </style>\n",
              "\n",
              "    <script>\n",
              "      const buttonEl =\n",
              "        document.querySelector('#df-35d44601-5018-4f00-a4e6-1b8a5c79279b button.colab-df-convert');\n",
              "      buttonEl.style.display =\n",
              "        google.colab.kernel.accessAllowed ? 'block' : 'none';\n",
              "\n",
              "      async function convertToInteractive(key) {\n",
              "        const element = document.querySelector('#df-35d44601-5018-4f00-a4e6-1b8a5c79279b');\n",
              "        const dataTable =\n",
              "          await google.colab.kernel.invokeFunction('convertToInteractive',\n",
              "                                                    [key], {});\n",
              "        if (!dataTable) return;\n",
              "\n",
              "        const docLinkHtml = 'Like what you see? Visit the ' +\n",
              "          '<a target=\"_blank\" href=https://colab.research.google.com/notebooks/data_table.ipynb>data table notebook</a>'\n",
              "          + ' to learn more about interactive tables.';\n",
              "        element.innerHTML = '';\n",
              "        dataTable['output_type'] = 'display_data';\n",
              "        await google.colab.output.renderOutput(dataTable, element);\n",
              "        const docLink = document.createElement('div');\n",
              "        docLink.innerHTML = docLinkHtml;\n",
              "        element.appendChild(docLink);\n",
              "      }\n",
              "    </script>\n",
              "  </div>\n",
              "\n",
              "\n",
              "    <div id=\"df-19dbe55e-09b5-4645-af02-05267f3ea197\">\n",
              "      <button class=\"colab-df-quickchart\" onclick=\"quickchart('df-19dbe55e-09b5-4645-af02-05267f3ea197')\"\n",
              "                title=\"Suggest charts\"\n",
              "                style=\"display:none;\">\n",
              "\n",
              "<svg xmlns=\"http://www.w3.org/2000/svg\" height=\"24px\"viewBox=\"0 0 24 24\"\n",
              "     width=\"24px\">\n",
              "    <g>\n",
              "        <path d=\"M19 3H5c-1.1 0-2 .9-2 2v14c0 1.1.9 2 2 2h14c1.1 0 2-.9 2-2V5c0-1.1-.9-2-2-2zM9 17H7v-7h2v7zm4 0h-2V7h2v10zm4 0h-2v-4h2v4z\"/>\n",
              "    </g>\n",
              "</svg>\n",
              "      </button>\n",
              "\n",
              "<style>\n",
              "  .colab-df-quickchart {\n",
              "      --bg-color: #E8F0FE;\n",
              "      --fill-color: #1967D2;\n",
              "      --hover-bg-color: #E2EBFA;\n",
              "      --hover-fill-color: #174EA6;\n",
              "      --disabled-fill-color: #AAA;\n",
              "      --disabled-bg-color: #DDD;\n",
              "  }\n",
              "\n",
              "  [theme=dark] .colab-df-quickchart {\n",
              "      --bg-color: #3B4455;\n",
              "      --fill-color: #D2E3FC;\n",
              "      --hover-bg-color: #434B5C;\n",
              "      --hover-fill-color: #FFFFFF;\n",
              "      --disabled-bg-color: #3B4455;\n",
              "      --disabled-fill-color: #666;\n",
              "  }\n",
              "\n",
              "  .colab-df-quickchart {\n",
              "    background-color: var(--bg-color);\n",
              "    border: none;\n",
              "    border-radius: 50%;\n",
              "    cursor: pointer;\n",
              "    display: none;\n",
              "    fill: var(--fill-color);\n",
              "    height: 32px;\n",
              "    padding: 0;\n",
              "    width: 32px;\n",
              "  }\n",
              "\n",
              "  .colab-df-quickchart:hover {\n",
              "    background-color: var(--hover-bg-color);\n",
              "    box-shadow: 0 1px 2px rgba(60, 64, 67, 0.3), 0 1px 3px 1px rgba(60, 64, 67, 0.15);\n",
              "    fill: var(--button-hover-fill-color);\n",
              "  }\n",
              "\n",
              "  .colab-df-quickchart-complete:disabled,\n",
              "  .colab-df-quickchart-complete:disabled:hover {\n",
              "    background-color: var(--disabled-bg-color);\n",
              "    fill: var(--disabled-fill-color);\n",
              "    box-shadow: none;\n",
              "  }\n",
              "\n",
              "  .colab-df-spinner {\n",
              "    border: 2px solid var(--fill-color);\n",
              "    border-color: transparent;\n",
              "    border-bottom-color: var(--fill-color);\n",
              "    animation:\n",
              "      spin 1s steps(1) infinite;\n",
              "  }\n",
              "\n",
              "  @keyframes spin {\n",
              "    0% {\n",
              "      border-color: transparent;\n",
              "      border-bottom-color: var(--fill-color);\n",
              "      border-left-color: var(--fill-color);\n",
              "    }\n",
              "    20% {\n",
              "      border-color: transparent;\n",
              "      border-left-color: var(--fill-color);\n",
              "      border-top-color: var(--fill-color);\n",
              "    }\n",
              "    30% {\n",
              "      border-color: transparent;\n",
              "      border-left-color: var(--fill-color);\n",
              "      border-top-color: var(--fill-color);\n",
              "      border-right-color: var(--fill-color);\n",
              "    }\n",
              "    40% {\n",
              "      border-color: transparent;\n",
              "      border-right-color: var(--fill-color);\n",
              "      border-top-color: var(--fill-color);\n",
              "    }\n",
              "    60% {\n",
              "      border-color: transparent;\n",
              "      border-right-color: var(--fill-color);\n",
              "    }\n",
              "    80% {\n",
              "      border-color: transparent;\n",
              "      border-right-color: var(--fill-color);\n",
              "      border-bottom-color: var(--fill-color);\n",
              "    }\n",
              "    90% {\n",
              "      border-color: transparent;\n",
              "      border-bottom-color: var(--fill-color);\n",
              "    }\n",
              "  }\n",
              "</style>\n",
              "\n",
              "      <script>\n",
              "        async function quickchart(key) {\n",
              "          const quickchartButtonEl =\n",
              "            document.querySelector('#' + key + ' button');\n",
              "          quickchartButtonEl.disabled = true;  // To prevent multiple clicks.\n",
              "          quickchartButtonEl.classList.add('colab-df-spinner');\n",
              "          try {\n",
              "            const charts = await google.colab.kernel.invokeFunction(\n",
              "                'suggestCharts', [key], {});\n",
              "          } catch (error) {\n",
              "            console.error('Error during call to suggestCharts:', error);\n",
              "          }\n",
              "          quickchartButtonEl.classList.remove('colab-df-spinner');\n",
              "          quickchartButtonEl.classList.add('colab-df-quickchart-complete');\n",
              "        }\n",
              "        (() => {\n",
              "          let quickchartButtonEl =\n",
              "            document.querySelector('#df-19dbe55e-09b5-4645-af02-05267f3ea197 button');\n",
              "          quickchartButtonEl.style.display =\n",
              "            google.colab.kernel.accessAllowed ? 'block' : 'none';\n",
              "        })();\n",
              "      </script>\n",
              "    </div>\n",
              "\n",
              "    </div>\n",
              "  </div>\n"
            ],
            "application/vnd.google.colaboratory.intrinsic+json": {
              "type": "dataframe",
              "summary": "{\n  \"name\": \"display(train\",\n  \"rows\": 8,\n  \"fields\": [\n    {\n      \"column\": \"Date\",\n      \"properties\": {\n        \"dtype\": \"date\",\n        \"min\": \"1970-01-01 00:00:00.001639424\",\n        \"max\": \"2024-12-11 00:00:00\",\n        \"num_unique_values\": 7,\n        \"samples\": [\n          \"1639424\",\n          \"2022-12-03 07:23:43.817145600\",\n          \"2023-11-23 00:00:00\"\n        ],\n        \"semantic_type\": \"\",\n        \"description\": \"\"\n      }\n    },\n    {\n      \"column\": \"X1\",\n      \"properties\": {\n        \"dtype\": \"number\",\n        \"std\": 579623.4258292441,\n        \"min\": 0.13919917592855185,\n        \"max\": 1639424.0,\n        \"num_unique_values\": 8,\n        \"samples\": [\n          1.1392584049595682,\n          1.2140962829562332,\n          1639424.0\n        ],\n        \"semantic_type\": \"\",\n        \"description\": \"\"\n      }\n    },\n    {\n      \"column\": \"X2\",\n      \"properties\": {\n        \"dtype\": \"number\",\n        \"std\": 579622.2509958736,\n        \"min\": 0.013428111737987681,\n        \"max\": 1639424.0,\n        \"num_unique_values\": 8,\n        \"samples\": [\n          5.488188576869893,\n          5.496717303971331,\n          1639424.0\n        ],\n        \"semantic_type\": \"\",\n        \"description\": \"\"\n      }\n    },\n    {\n      \"column\": \"X3\",\n      \"properties\": {\n        \"dtype\": \"number\",\n        \"std\": 5.8382346852048e+37,\n        \"min\": 1.0,\n        \"max\": 1.6516362549940018e+38,\n        \"num_unique_values\": 5,\n        \"samples\": [\n          4.110388488453359e+32,\n          2.3461557410162464e+35,\n          1.0\n        ],\n        \"semantic_type\": \"\",\n        \"description\": \"\"\n      }\n    },\n    {\n      \"column\": \"X4\",\n      \"properties\": {\n        \"dtype\": \"number\",\n        \"std\": 1.9586119175239433e+34,\n        \"min\": 1.0,\n        \"max\": 5.54062238439351e+34,\n        \"num_unique_values\": 6,\n        \"samples\": [\n          1639424.0,\n          2.7063226075215405e+29,\n          5.812988013975174e+31\n        ],\n        \"semantic_type\": \"\",\n        \"description\": \"\"\n      }\n    },\n    {\n      \"column\": \"X5\",\n      \"properties\": {\n        \"dtype\": \"number\",\n        \"std\": 579623.4319135338,\n        \"min\": 0.0,\n        \"max\": 1639424.0,\n        \"num_unique_values\": 7,\n        \"samples\": [\n          1639424.0,\n          1.187219076268503,\n          3.4657359027997265\n        ],\n        \"semantic_type\": \"\",\n        \"description\": \"\"\n      }\n    }\n  ]\n}"
            }
          },
          "metadata": {}
        }
      ]
    },
    {
      "cell_type": "markdown",
      "source": [
        "*Here, I started by checking the dataset structure and summary statistics to understand the datatypes and ranges of sensor readings.*"
      ],
      "metadata": {
        "id": "qbD0IUGMedhp"
      }
    },
    {
      "cell_type": "code",
      "source": [
        "# Checking for missing values\n",
        "print(\"\\nMissing values per column:\")\n",
        "print(train.isnull().sum())"
      ],
      "metadata": {
        "colab": {
          "base_uri": "https://localhost:8080/"
        },
        "id": "CGZX0BOrehp2",
        "outputId": "9717a887-a31b-4e61-d87c-63d8009d6229"
      },
      "execution_count": 8,
      "outputs": [
        {
          "output_type": "stream",
          "name": "stdout",
          "text": [
            "\n",
            "Missing values per column:\n",
            "Date      0\n",
            "X1        0\n",
            "X2        0\n",
            "X3        0\n",
            "X4        0\n",
            "X5        0\n",
            "target    0\n",
            "dtype: int64\n"
          ]
        }
      ]
    },
    {
      "cell_type": "markdown",
      "source": [
        "*I verified if there are any missing values in the dataset. Since sensor data often has gaps, it was important to confirm whether imputation will be needed. No missing values.*"
      ],
      "metadata": {
        "id": "T2YI5hzYeoDe"
      }
    },
    {
      "cell_type": "code",
      "source": [
        "# Checking class balance in the target variable\n",
        "plt.figure(figsize=(5,4))\n",
        "sns.countplot(x=\"target\", data=train, palette=\"Set2\")\n",
        "plt.title(\"Target Variable Distribution (0 = Normal, 1 = Anomaly)\")\n",
        "plt.show()\n",
        "\n",
        "print(\"\\nClass distribution:\")\n",
        "print(train['target'].value_counts(normalize=True))\n"
      ],
      "metadata": {
        "colab": {
          "base_uri": "https://localhost:8080/",
          "height": 636
        },
        "id": "7nvFPz8ie0eo",
        "outputId": "998d095d-046f-463b-ac5e-4f5d5442519c"
      },
      "execution_count": 9,
      "outputs": [
        {
          "output_type": "stream",
          "name": "stderr",
          "text": [
            "/tmp/ipython-input-3652604273.py:3: FutureWarning: \n",
            "\n",
            "Passing `palette` without assigning `hue` is deprecated and will be removed in v0.14.0. Assign the `x` variable to `hue` and set `legend=False` for the same effect.\n",
            "\n",
            "  sns.countplot(x=\"target\", data=train, palette=\"Set2\")\n"
          ]
        },
        {
          "output_type": "display_data",
          "data": {
            "text/plain": [
              "<Figure size 500x400 with 1 Axes>"
            ],
            "image/png": "[encoded data removed]"
          },
          "metadata": {}
        },
        {
          "output_type": "stream",
          "name": "stdout",
          "text": [
            "\n",
            "Class distribution:\n",
            "target\n",
            "0    0.991437\n",
            "1    0.008563\n",
            "Name: proportion, dtype: float64\n"
          ]
        }
      ]
    },
    {
      "cell_type": "markdown",
      "source": [
        "*The class distribution is extremely skewed, with anomalies representing less than 1% of the dataset. This imbalance implies that accuracy will not be a reliable metric, since predicting all samples as normal would still give >99% accuracy. Therefore, I will prioritize F1-score, precision, and recall to properly evaluate anomaly detection performance.*"
      ],
      "metadata": {
        "id": "H0Imfq1og4q4"
      }
    },
    {
      "cell_type": "code",
      "source": [
        "# Checking correlations among sensor readings\n",
        "plt.figure(figsize=(8,6))\n",
        "corr_matrix = train[['X1','X2','X3','X4','X5']].corr()\n",
        "sns.heatmap(corr_matrix, annot=True, cmap=\"coolwarm\", fmt=\".2f\")\n",
        "plt.title(\"Correlation Heatmap of Sensor Readings\")\n",
        "plt.show()\n"
      ],
      "metadata": {
        "colab": {
          "base_uri": "https://localhost:8080/",
          "height": 545
        },
        "id": "KQ41F5OKg7dv",
        "outputId": "d8781925-3f9c-44ef-a415-8e85babbe4b3"
      },
      "execution_count": 10,
      "outputs": [
        {
          "output_type": "display_data",
          "data": {
            "text/plain": [
              "<Figure size 800x600 with 2 Axes>"
            ],
            "image/png": "[encoded data removed]"
          },
          "metadata": {}
        }
      ]
    },
    {
      "cell_type": "markdown",
      "source": [
        "*I plotted a correlation heatmap of the sensor readings to identify relationships between them. Strong correlations would indicate redundancy, while weak correlations suggest that each sensor provides unique information. This step helps in deciding whether dimensionality reduction or feature selection might be beneficial.*\n",
        "\n",
        "*Most sensors are weakly correlated (values close to 0). Only X2 and X5 have a mild negative correlation (-0.26).*"
      ],
      "metadata": {
        "id": "eZwkxkOjhQCK"
      }
    },
    {
      "cell_type": "code",
      "source": [
        "# Distribution of each sensor feature\n",
        "sensor_cols = ['X1','X2','X3','X4','X5']\n",
        "\n",
        "plt.figure(figsize=(12,6))\n",
        "for i, col in enumerate(sensor_cols, 1):\n",
        "    plt.subplot(2, 3, i)\n",
        "    sns.histplot(train[col], kde=True, bins=30, color=\"steelblue\")\n",
        "    plt.title(f\"Distribution of {col}\")\n",
        "plt.tight_layout()\n",
        "plt.show()\n"
      ],
      "metadata": {
        "colab": {
          "base_uri": "https://localhost:8080/",
          "height": 595
        },
        "id": "Cpd3t2Haho4U",
        "outputId": "276f1b1b-9733-4d3a-d3c1-4dc85558b1a5"
      },
      "execution_count": 11,
      "outputs": [
        {
          "output_type": "display_data",
          "data": {
            "text/plain": [
              "<Figure size 1200x600 with 5 Axes>"
            ],
            "image/png": "[encoded data removed]"
          },
          "metadata": {}
        }
      ]
    },
    {
      "cell_type": "markdown",
      "source": [
        "*I plotted the distributions of all sensor readings to understand their statistical behavior. This helps in detecting skewness, non-Gaussian patterns, or potential outliers. Such insights are useful later when deciding whether scaling, normalization, or transformation is needed before modeling.*"
      ],
      "metadata": {
        "id": "7578QVOWmGRw"
      }
    },
    {
      "cell_type": "markdown",
      "source": [
        "X1 → right-skewed (lots of small values, some larger ones).\n",
        "\n",
        "X2 → nearly normal (Gaussian), nicely centered.\n",
        "\n",
        "X3 → weird! Extremely large values (looks like floating-point overflow). Definitely needs preprocessing.\n",
        "\n",
        "X4 → also strange, extremely large values. Scaling or transformation required.\n",
        "\n",
        "X5 → multimodal (multiple peaks → could represent different machine states).\n",
        "\n",
        "This means before modeling, scaling and maybe transformations (log, standard scaling) will be essential."
      ],
      "metadata": {
        "id": "xe935Ciel78u"
      }
    },
    {
      "cell_type": "code",
      "source": [
        "# Converting Date column to datetime\n",
        "train['Date'] = pd.to_datetime(train['Date'])\n",
        "\n",
        "# Plot anomalies over time\n",
        "plt.figure(figsize=(12,5))\n",
        "sns.lineplot(x=\"Date\", y=\"target\", data=train, label=\"Target\")\n",
        "plt.title(\"Anomalies Over Time\")\n",
        "plt.show()\n"
      ],
      "metadata": {
        "colab": {
          "base_uri": "https://localhost:8080/",
          "height": 487
        },
        "id": "7jLL-ENbmJ3X",
        "outputId": "892292dc-ec6c-4076-8202-e241fb1a3da2"
      },
      "execution_count": 12,
      "outputs": [
        {
          "output_type": "display_data",
          "data": {
            "text/plain": [
              "<Figure size 1200x500 with 1 Axes>"
            ],
            "image/png": "[encoded data removed]"
          },
          "metadata": {}
        }
      ]
    },
    {
      "cell_type": "markdown",
      "source": [
        "*I analyzed anomalies with respect to time. This step checks whether anomalies are concentrated in certain time windows or occur randomly. Time-based patterns can reveal critical insights about machine breakdown cycles or seasonal effects.*"
      ],
      "metadata": {
        "id": "DtHKqDuwmkIg"
      }
    },
    {
      "cell_type": "markdown",
      "source": [
        "* Anomalies (target=1) are scattered across time instead of being limited to one period.\n",
        "\n",
        "* No obvious seasonal pattern (e.g., yearly spikes).\n",
        "\n",
        "* This confirms that sensor values (X1–X5) are the main drivers, not time alone."
      ],
      "metadata": {
        "id": "JxiyPzU-mlUU"
      }
    },
    {
      "cell_type": "code",
      "source": [
        "plt.figure(figsize=(14,8))\n",
        "for i, col in enumerate(['X1','X2','X3','X4','X5'], 1):\n",
        "    plt.subplot(2,3,i)\n",
        "    sns.boxplot(x=\"target\", y=col, data=train, palette=\"Set2\")\n",
        "    plt.title(f\"{col} vs Target\")\n",
        "plt.tight_layout()\n",
        "plt.show()\n"
      ],
      "metadata": {
        "colab": {
          "base_uri": "https://localhost:8080/",
          "height": 1000
        },
        "id": "Ovlrkpeomroj",
        "outputId": "d7f0efe0-8fac-4cc2-dfa1-9b466d1b7b85"
      },
      "execution_count": 13,
      "outputs": [
        {
          "output_type": "stream",
          "name": "stderr",
          "text": [
            "/tmp/ipython-input-3951410504.py:4: FutureWarning: \n",
            "\n",
            "Passing `palette` without assigning `hue` is deprecated and will be removed in v0.14.0. Assign the `x` variable to `hue` and set `legend=False` for the same effect.\n",
            "\n",
            "  sns.boxplot(x=\"target\", y=col, data=train, palette=\"Set2\")\n",
            "/tmp/ipython-input-3951410504.py:4: FutureWarning: \n",
            "\n",
            "Passing `palette` without assigning `hue` is deprecated and will be removed in v0.14.0. Assign the `x` variable to `hue` and set `legend=False` for the same effect.\n",
            "\n",
            "  sns.boxplot(x=\"target\", y=col, data=train, palette=\"Set2\")\n",
            "/tmp/ipython-input-3951410504.py:4: FutureWarning: \n",
            "\n",
            "Passing `palette` without assigning `hue` is deprecated and will be removed in v0.14.0. Assign the `x` variable to `hue` and set `legend=False` for the same effect.\n",
            "\n",
            "  sns.boxplot(x=\"target\", y=col, data=train, palette=\"Set2\")\n",
            "/tmp/ipython-input-3951410504.py:4: FutureWarning: \n",
            "\n",
            "Passing `palette` without assigning `hue` is deprecated and will be removed in v0.14.0. Assign the `x` variable to `hue` and set `legend=False` for the same effect.\n",
            "\n",
            "  sns.boxplot(x=\"target\", y=col, data=train, palette=\"Set2\")\n",
            "/tmp/ipython-input-3951410504.py:4: FutureWarning: \n",
            "\n",
            "Passing `palette` without assigning `hue` is deprecated and will be removed in v0.14.0. Assign the `x` variable to `hue` and set `legend=False` for the same effect.\n",
            "\n",
            "  sns.boxplot(x=\"target\", y=col, data=train, palette=\"Set2\")\n"
          ]
        },
        {
          "output_type": "display_data",
          "data": {
            "text/plain": [
              "<Figure size 1400x800 with 5 Axes>"
            ],
            "image/png": "[encoded data removed]"
          },
          "metadata": {}
        }
      ]
    },
    {
      "cell_type": "markdown",
      "source": [
        "*I compared the distribution of each sensor feature across normal and anomaly classes. This step helps identify which sensors are most sensitive in detecting anomalies, guiding feature selection and preprocessing.*"
      ],
      "metadata": {
        "id": "AyK_VtvvnEOp"
      }
    },
    {
      "cell_type": "markdown",
      "source": [
        "* X1: Slightly higher values for anomalies, but overlap is large.\n",
        "\n",
        "* X2: Anomalies tend to be lower than normal → useful signal.\n",
        "\n",
        "* X3 & X4: Mostly extreme outliers, not consistent → likely noise, may need log-scaling or removal.\n",
        "\n",
        "* X5: Very distinct separation → anomalies have much higher values, strong predictor."
      ],
      "metadata": {
        "id": "1I57PmkAnGzH"
      }
    },
    {
      "cell_type": "markdown",
      "source": [
        "*From the boxplots, I observed that X5 is the strongest discriminator of anomalies. X2 also shows clear shifts for anomalies, while X1 is less effective. X3 and X4 contain extreme values with little class separation, suggesting they may either need transformation (e.g., log scale) or be dropped to avoid noise.*"
      ],
      "metadata": {
        "id": "ha0Gs74BnRzi"
      }
    },
    {
      "cell_type": "markdown",
      "source": [
        "## **STEP 3: Data Preprocessing & Feature Engineering**"
      ],
      "metadata": {
        "id": "xkc7nQZDnhu0"
      }
    },
    {
      "cell_type": "code",
      "source": [
        "import numpy as np\n",
        "\n",
        "# Convert target to numeric\n",
        "train['target'] = train['target'].astype(int)\n",
        "\n",
        "# Apply log1p transformation to X3 and X4\n",
        "train['X3_log'] = np.log1p(train['X3'])\n",
        "train['X4_log'] = np.log1p(train['X4'])\n",
        "\n",
        "# Quick check of new columns\n",
        "print(train[['X3', 'X3_log', 'X4', 'X4_log']].describe().T)\n"
      ],
      "metadata": {
        "colab": {
          "base_uri": "https://localhost:8080/"
        },
        "id": "FMAWDl5FnM84",
        "outputId": "e74a17a9-9763-45c7-dfc7-d1f3628456a1"
      },
      "execution_count": 14,
      "outputs": [
        {
          "output_type": "stream",
          "name": "stdout",
          "text": [
            "            count          mean           std       min       25%       50%  \\\n",
            "X3      1639424.0  4.110388e+32  2.346156e+35  1.000000  1.000000  1.000000   \n",
            "X3_log  1639424.0  1.773386e+00  6.042252e+00  0.693147  0.693147  0.693147   \n",
            "X4      1639424.0  2.706323e+29  5.812988e+31  1.000000  1.000000  1.000000   \n",
            "X4_log  1639424.0  1.856724e+00  5.728174e+00  0.693147  0.693147  0.693147   \n",
            "\n",
            "             75%           max  \n",
            "X3      1.000000  1.651636e+38  \n",
            "X3_log  0.693147  8.800000e+01  \n",
            "X4      2.718282  5.540622e+34  \n",
            "X4_log  1.313262  8.000000e+01  \n"
          ]
        }
      ]
    },
    {
      "cell_type": "markdown",
      "source": [
        "*Since X3 and X4 had extreme ranges and were not very informative in raw scale, I applied log1p transformation. This compresses large values and makes the distribution more stable, reducing the effect of outliers while preserving relative differences.*"
      ],
      "metadata": {
        "id": "MaIg60WOoFpT"
      }
    },
    {
      "cell_type": "code",
      "source": [
        "# Extract time-based features from Date\n",
        "train['year'] = train['Date'].dt.year\n",
        "train['month'] = train['Date'].dt.month\n",
        "train['day'] = train['Date'].dt.day\n",
        "train['hour'] = train['Date'].dt.hour\n",
        "\n",
        "# Drop the original Date column\n",
        "train.drop('Date', axis=1, inplace=True)\n"
      ],
      "metadata": {
        "id": "AEYUgQJ6o00K"
      },
      "execution_count": 15,
      "outputs": []
    },
    {
      "cell_type": "markdown",
      "source": [
        "*I extracted time-based features (year, month, day, hour) from the Date column to capture temporal patterns in anomalies. Then I dropped the raw Date column since models can’t handle datetime directly.*"
      ],
      "metadata": {
        "id": "Im6hy5lqpYI5"
      }
    },
    {
      "cell_type": "code",
      "source": [
        "train['X3'] = np.log1p(train['X3'])\n",
        "train['X4'] = np.log1p(train['X4'])"
      ],
      "metadata": {
        "id": "xX69q9ndpZes"
      },
      "execution_count": 16,
      "outputs": []
    },
    {
      "cell_type": "markdown",
      "source": [
        "*I finalized the log transformation on X3 and X4 to reduce skewness. This step stabilizes variance and helps models learn better.*"
      ],
      "metadata": {
        "id": "ffMT_c7apie0"
      }
    },
    {
      "cell_type": "code",
      "source": [
        "from sklearn.preprocessing import StandardScaler\n",
        "from sklearn.model_selection import train_test_split\n",
        "\n",
        "# Separate features and target\n",
        "X = train.drop('target', axis=1)\n",
        "y = train['target']\n",
        "\n",
        "# Scale features\n",
        "scaler = StandardScaler()\n",
        "X_scaled = scaler.fit_transform(X)\n",
        "\n",
        "# Train/validation split\n",
        "X_train, X_val, y_train, y_val = train_test_split(\n",
        "    X_scaled, y, test_size=0.2, random_state=42, stratify=y\n",
        ")\n",
        "\n",
        "print(\"Training set size:\", X_train.shape)\n",
        "print(\"Validation set size:\", X_val.shape)\n",
        "\n",
        "\n"
      ],
      "metadata": {
        "colab": {
          "base_uri": "https://localhost:8080/"
        },
        "id": "oFHbfCxrpkKN",
        "outputId": "50ebdf2c-6f10-4baf-d8e8-0b7bef4977b0"
      },
      "execution_count": 17,
      "outputs": [
        {
          "output_type": "stream",
          "name": "stdout",
          "text": [
            "Training set size: (1311539, 11)\n",
            "Validation set size: (327885, 11)\n"
          ]
        }
      ]
    },
    {
      "cell_type": "markdown",
      "source": [
        "*I standardized all features using StandardScaler (mean=0, std=1), since models like Logistic Regression, SVM, and KNN are sensitive to feature magnitudes. I then split the dataset into 80% training and 20% validation with stratification, so class imbalance is preserved.*"
      ],
      "metadata": {
        "id": "jdG8Gklepr_7"
      }
    },
    {
      "cell_type": "markdown",
      "source": [
        "## **Baseline Logistic Regression**"
      ],
      "metadata": {
        "id": "F9H2lXccykoA"
      }
    },
    {
      "cell_type": "code",
      "source": [
        "from sklearn.linear_model import LogisticRegression\n",
        "from sklearn.metrics import classification_report, roc_auc_score\n",
        "\n",
        "# Train\n",
        "lr = LogisticRegression(max_iter=1000, random_state=42)\n",
        "lr.fit(X_train, y_train)\n",
        "\n",
        "# Predict\n",
        "y_pred = lr.predict(X_val)\n",
        "y_proba = lr.predict_proba(X_val)[:, 1]\n",
        "\n",
        "# Evaluation\n",
        "print(\"Logistic Regression Report:\\n\", classification_report(y_val, y_pred))\n",
        "print(\"ROC-AUC:\", roc_auc_score(y_val, y_proba))\n"
      ],
      "metadata": {
        "colab": {
          "base_uri": "https://localhost:8080/"
        },
        "id": "_2UB1lzWuwqN",
        "outputId": "ec86d8b8-97b8-4ab3-fd03-9badfe4ce8f8"
      },
      "execution_count": 18,
      "outputs": [
        {
          "output_type": "stream",
          "name": "stdout",
          "text": [
            "Logistic Regression Report:\n",
            "               precision    recall  f1-score   support\n",
            "\n",
            "           0       1.00      1.00      1.00    325077\n",
            "           1       0.83      0.42      0.56      2808\n",
            "\n",
            "    accuracy                           0.99    327885\n",
            "   macro avg       0.91      0.71      0.78    327885\n",
            "weighted avg       0.99      0.99      0.99    327885\n",
            "\n",
            "ROC-AUC: 0.9824320123603062\n"
          ]
        }
      ]
    },
    {
      "cell_type": "markdown",
      "source": [
        "*I started with Logistic Regression as a baseline model. It is simple, interpretable, and provides a benchmark to compare with more complex models.*"
      ],
      "metadata": {
        "id": "EfVAVocayuAX"
      }
    },
    {
      "cell_type": "markdown",
      "source": [
        "## **Random Forest**"
      ],
      "metadata": {
        "id": "MCuDdBEgywBv"
      }
    },
    {
      "cell_type": "code",
      "source": [
        "from sklearn.ensemble import RandomForestClassifier\n",
        "\n",
        "rf = RandomForestClassifier(n_estimators=200, random_state=42)\n",
        "rf.fit(X_train, y_train)\n",
        "\n",
        "y_pred_rf = rf.predict(X_val)\n",
        "y_proba_rf = rf.predict_proba(X_val)[:, 1]\n",
        "\n",
        "print(\"Random Forest Report:\\n\", classification_report(y_val, y_pred_rf))\n",
        "print(\"ROC-AUC:\", roc_auc_score(y_val, y_proba_rf))\n"
      ],
      "metadata": {
        "colab": {
          "base_uri": "https://localhost:8080/"
        },
        "id": "650nzMc7yvC8",
        "outputId": "eb3c15ca-2032-4f5f-fe0a-492b56291515"
      },
      "execution_count": 19,
      "outputs": [
        {
          "output_type": "stream",
          "name": "stdout",
          "text": [
            "Random Forest Report:\n",
            "               precision    recall  f1-score   support\n",
            "\n",
            "           0       1.00      1.00      1.00    325077\n",
            "           1       0.91      0.68      0.78      2808\n",
            "\n",
            "    accuracy                           1.00    327885\n",
            "   macro avg       0.96      0.84      0.89    327885\n",
            "weighted avg       1.00      1.00      1.00    327885\n",
            "\n",
            "ROC-AUC: 0.983244345102651\n"
          ]
        }
      ]
    },
    {
      "cell_type": "markdown",
      "source": [
        "*I then trained a Random Forest classifier, which captures non-linear patterns and feature interactions better than Logistic Regression.*"
      ],
      "metadata": {
        "id": "_oPrZxQ_1I6q"
      }
    },
    {
      "cell_type": "markdown",
      "source": [
        "## **Compare Models**"
      ],
      "metadata": {
        "id": "6u86oxsv1XzD"
      }
    },
    {
      "cell_type": "markdown",
      "source": [
        "| Model               | Accuracy | Precision (1) | Recall (1) | F1 (1) | ROC-AUC |\n",
        "| ------------------- | -------- | ------------- | ---------- | ------ | ------- |\n",
        "| Logistic Regression | 0.99     | 0.83          | 0.42       | 0.56   | 0.982   |\n",
        "| Random Forest       | 1.00     | 0.91          | 0.68       | 0.78   | 0.983   |\n",
        "\n",
        "\n",
        "(where class 1 = anomaly/target class)"
      ],
      "metadata": {
        "id": "BH_BBss51U2N"
      }
    },
    {
      "cell_type": "markdown",
      "source": [
        "**Logistic Regression**\n",
        "\n",
        "* Gave very high accuracy (99%) because of class imbalance (majority class dominates).\n",
        "\n",
        "* Precision for anomalies (83%) was decent, but recall (42%) was poor → it missed many anomalies.\n",
        "\n",
        "* Good as a baseline, but not ideal for anomaly detection.\n",
        "\n",
        "**Random Forest**\n",
        "\n",
        "* Improved both recall (68%) and F1 (0.78), meaning it caught many more anomalies.\n",
        "\n",
        "* Precision also improved (91%), meaning fewer false alarms.\n",
        "\n",
        "* Slightly better ROC-AUC than Logistic Regression.\n",
        "\n",
        "**Takeaway**\n",
        "\n",
        "* Random Forest clearly outperforms Logistic Regression for this task, especially in detecting anomalies (higher recall).\n",
        "\n",
        "* Ensemble methods like Random Forest are better suited when class imbalance and complex feature interactions exist."
      ],
      "metadata": {
        "id": "PpLroeep13WS"
      }
    },
    {
      "cell_type": "code",
      "source": [
        "from sklearn.model_selection import train_test_split\n",
        "\n",
        "X = train.drop(columns=[\"target\"])\n",
        "\n",
        "y = train[\"target\"]\n",
        "\n",
        "X_train, X_val, y_train, y_val = train_test_split(X, y, test_size=0.2, stratify=y, random_state=42)\n"
      ],
      "metadata": {
        "id": "lL06mB27DjHd"
      },
      "execution_count": 21,
      "outputs": []
    },
    {
      "cell_type": "code",
      "source": [
        "from sklearn.linear_model import LogisticRegression\n",
        "from sklearn.ensemble import RandomForestClassifier\n",
        "from sklearn.metrics import classification_report, confusion_matrix, accuracy_score\n",
        "\n",
        "# Logistic Regression\n",
        "logreg = LogisticRegression(max_iter=1000)\n",
        "logreg.fit(X_train, y_train)\n",
        "y_val_pred_log = logreg.predict(X_val)\n",
        "print(\"Logistic Regression Accuracy:\", accuracy_score(y_val, y_val_pred_log))\n",
        "\n",
        "# Random Forest\n",
        "rf = RandomForestClassifier(n_estimators=200, random_state=42, n_jobs=-1)\n",
        "rf.fit(X_train, y_train)\n",
        "y_val_pred_rf = rf.predict(X_val)\n",
        "print(\"Random Forest Accuracy:\", accuracy_score(y_val, y_val_pred_rf))\n"
      ],
      "metadata": {
        "colab": {
          "base_uri": "https://localhost:8080/",
          "height": 373
        },
        "id": "TeR-LJs-Edqc",
        "outputId": "9b7476e4-1d94-43b9-a505-3374576d4662"
      },
      "execution_count": 23,
      "outputs": [
        {
          "output_type": "stream",
          "name": "stdout",
          "text": [
            "Logistic Regression Accuracy: 0.9942052853896945\n"
          ]
        },
        {
          "output_type": "error",
          "ename": "KeyboardInterrupt",
          "evalue": "",
          "traceback": [
            "\u001b[0;31m---------------------------------------------------------------------------\u001b[0m",
            "\u001b[0;31mKeyboardInterrupt\u001b[0m                         Traceback (most recent call last)",
            "\u001b[0;32m/tmp/ipython-input-4183207516.py\u001b[0m in \u001b[0;36m<cell line: 0>\u001b[0;34m()\u001b[0m\n\u001b[1;32m     11\u001b[0m \u001b[0;31m# Random Forest\u001b[0m\u001b[0;34m\u001b[0m\u001b[0;34m\u001b[0m\u001b[0m\n\u001b[1;32m     12\u001b[0m \u001b[0mrf\u001b[0m \u001b[0;34m=\u001b[0m \u001b[0mRandomForestClassifier\u001b[0m\u001b[0;34m(\u001b[0m\u001b[0mn_estimators\u001b[0m\u001b[0;34m=\u001b[0m\u001b[0;36m200\u001b[0m\u001b[0;34m,\u001b[0m \u001b[0mrandom_state\u001b[0m\u001b[0;34m=\u001b[0m\u001b[0;36m42\u001b[0m\u001b[0;34m,\u001b[0m \u001b[0mn_jobs\u001b[0m\u001b[0;34m=\u001b[0m\u001b[0;34m-\u001b[0m\u001b[0;36m1\u001b[0m\u001b[0;34m)\u001b[0m\u001b[0;34m\u001b[0m\u001b[0;34m\u001b[0m\u001b[0m\n\u001b[0;32m---> 13\u001b[0;31m \u001b[0mrf\u001b[0m\u001b[0;34m.\u001b[0m\u001b[0mfit\u001b[0m\u001b[0;34m(\u001b[0m\u001b[0mX_train\u001b[0m\u001b[0;34m,\u001b[0m \u001b[0my_train\u001b[0m\u001b[0;34m)\u001b[0m\u001b[0;34m\u001b[0m\u001b[0;34m\u001b[0m\u001b[0m\n\u001b[0m\u001b[1;32m     14\u001b[0m \u001b[0my_val_pred_rf\u001b[0m \u001b[0;34m=\u001b[0m \u001b[0mrf\u001b[0m\u001b[0;34m.\u001b[0m\u001b[0mpredict\u001b[0m\u001b[0;34m(\u001b[0m\u001b[0mX_val\u001b[0m\u001b[0;34m)\u001b[0m\u001b[0;34m\u001b[0m\u001b[0;34m\u001b[0m\u001b[0m\n\u001b[1;32m     15\u001b[0m \u001b[0mprint\u001b[0m\u001b[0;34m(\u001b[0m\u001b[0;34m\"Random Forest Accuracy:\"\u001b[0m\u001b[0;34m,\u001b[0m \u001b[0maccuracy_score\u001b[0m\u001b[0;34m(\u001b[0m\u001b[0my_val\u001b[0m\u001b[0;34m,\u001b[0m \u001b[0my_val_pred_rf\u001b[0m\u001b[0;34m)\u001b[0m\u001b[0;34m)\u001b[0m\u001b[0;34m\u001b[0m\u001b[0;34m\u001b[0m\u001b[0m\n",
            "\u001b[0;32m/usr/local/lib/python3.12/dist-packages/sklearn/base.py\u001b[0m in \u001b[0;36mwrapper\u001b[0;34m(estimator, *args, **kwargs)\u001b[0m\n\u001b[1;32m   1387\u001b[0m                 )\n\u001b[1;32m   1388\u001b[0m             ):\n\u001b[0;32m-> 1389\u001b[0;31m                 \u001b[0;32mreturn\u001b[0m \u001b[0mfit_method\u001b[0m\u001b[0;34m(\u001b[0m\u001b[0mestimator\u001b[0m\u001b[0;34m,\u001b[0m \u001b[0;34m*\u001b[0m\u001b[0margs\u001b[0m\u001b[0;34m,\u001b[0m \u001b[0;34m**\u001b[0m\u001b[0mkwargs\u001b[0m\u001b[0;34m)\u001b[0m\u001b[0;34m\u001b[0m\u001b[0;34m\u001b[0m\u001b[0m\n\u001b[0m\u001b[1;32m   1390\u001b[0m \u001b[0;34m\u001b[0m\u001b[0m\n\u001b[1;32m   1391\u001b[0m         \u001b[0;32mreturn\u001b[0m \u001b[0mwrapper\u001b[0m\u001b[0;34m\u001b[0m\u001b[0;34m\u001b[0m\u001b[0m\n",
            "\u001b[0;32m/usr/local/lib/python3.12/dist-packages/sklearn/ensemble/_forest.py\u001b[0m in \u001b[0;36mfit\u001b[0;34m(self, X, y, sample_weight)\u001b[0m\n\u001b[1;32m    485\u001b[0m             \u001b[0;31m# parallel_backend contexts set at a higher level,\u001b[0m\u001b[0;34m\u001b[0m\u001b[0;34m\u001b[0m\u001b[0m\n\u001b[1;32m    486\u001b[0m             \u001b[0;31m# since correctness does not rely on using threads.\u001b[0m\u001b[0;34m\u001b[0m\u001b[0;34m\u001b[0m\u001b[0m\n\u001b[0;32m--> 487\u001b[0;31m             trees = Parallel(\n\u001b[0m\u001b[1;32m    488\u001b[0m                 \u001b[0mn_jobs\u001b[0m\u001b[0;34m=\u001b[0m\u001b[0mself\u001b[0m\u001b[0;34m.\u001b[0m\u001b[0mn_jobs\u001b[0m\u001b[0;34m,\u001b[0m\u001b[0;34m\u001b[0m\u001b[0;34m\u001b[0m\u001b[0m\n\u001b[1;32m    489\u001b[0m                 \u001b[0mverbose\u001b[0m\u001b[0;34m=\u001b[0m\u001b[0mself\u001b[0m\u001b[0;34m.\u001b[0m\u001b[0mverbose\u001b[0m\u001b[0;34m,\u001b[0m\u001b[0;34m\u001b[0m\u001b[0;34m\u001b[0m\u001b[0m\n",
            "\u001b[0;32m/usr/local/lib/python3.12/dist-packages/sklearn/utils/parallel.py\u001b[0m in \u001b[0;36m__call__\u001b[0;34m(self, iterable)\u001b[0m\n\u001b[1;32m     75\u001b[0m             \u001b[0;32mfor\u001b[0m \u001b[0mdelayed_func\u001b[0m\u001b[0;34m,\u001b[0m \u001b[0margs\u001b[0m\u001b[0;34m,\u001b[0m \u001b[0mkwargs\u001b[0m \u001b[0;32min\u001b[0m \u001b[0miterable\u001b[0m\u001b[0;34m\u001b[0m\u001b[0;34m\u001b[0m\u001b[0m\n\u001b[1;32m     76\u001b[0m         )\n\u001b[0;32m---> 77\u001b[0;31m         \u001b[0;32mreturn\u001b[0m \u001b[0msuper\u001b[0m\u001b[0;34m(\u001b[0m\u001b[0;34m)\u001b[0m\u001b[0;34m.\u001b[0m\u001b[0m__call__\u001b[0m\u001b[0;34m(\u001b[0m\u001b[0miterable_with_config\u001b[0m\u001b[0;34m)\u001b[0m\u001b[0;34m\u001b[0m\u001b[0;34m\u001b[0m\u001b[0m\n\u001b[0m\u001b[1;32m     78\u001b[0m \u001b[0;34m\u001b[0m\u001b[0m\n\u001b[1;32m     79\u001b[0m \u001b[0;34m\u001b[0m\u001b[0m\n",
            "\u001b[0;32m/usr/local/lib/python3.12/dist-packages/joblib/parallel.py\u001b[0m in \u001b[0;36m__call__\u001b[0;34m(self, iterable)\u001b[0m\n\u001b[1;32m   2070\u001b[0m         \u001b[0mnext\u001b[0m\u001b[0;34m(\u001b[0m\u001b[0moutput\u001b[0m\u001b[0;34m)\u001b[0m\u001b[0;34m\u001b[0m\u001b[0;34m\u001b[0m\u001b[0m\n\u001b[1;32m   2071\u001b[0m \u001b[0;34m\u001b[0m\u001b[0m\n\u001b[0;32m-> 2072\u001b[0;31m         \u001b[0;32mreturn\u001b[0m \u001b[0moutput\u001b[0m \u001b[0;32mif\u001b[0m \u001b[0mself\u001b[0m\u001b[0;34m.\u001b[0m\u001b[0mreturn_generator\u001b[0m \u001b[0;32melse\u001b[0m \u001b[0mlist\u001b[0m\u001b[0;34m(\u001b[0m\u001b[0moutput\u001b[0m\u001b[0;34m)\u001b[0m\u001b[0;34m\u001b[0m\u001b[0;34m\u001b[0m\u001b[0m\n\u001b[0m\u001b[1;32m   2073\u001b[0m \u001b[0;34m\u001b[0m\u001b[0m\n\u001b[1;32m   2074\u001b[0m     \u001b[0;32mdef\u001b[0m \u001b[0m__repr__\u001b[0m\u001b[0;34m(\u001b[0m\u001b[0mself\u001b[0m\u001b[0;34m)\u001b[0m\u001b[0;34m:\u001b[0m\u001b[0;34m\u001b[0m\u001b[0;34m\u001b[0m\u001b[0m\n",
            "\u001b[0;32m/usr/local/lib/python3.12/dist-packages/joblib/parallel.py\u001b[0m in \u001b[0;36m_get_outputs\u001b[0;34m(self, iterator, pre_dispatch)\u001b[0m\n\u001b[1;32m   1680\u001b[0m \u001b[0;34m\u001b[0m\u001b[0m\n\u001b[1;32m   1681\u001b[0m             \u001b[0;32mwith\u001b[0m \u001b[0mself\u001b[0m\u001b[0;34m.\u001b[0m\u001b[0m_backend\u001b[0m\u001b[0;34m.\u001b[0m\u001b[0mretrieval_context\u001b[0m\u001b[0;34m(\u001b[0m\u001b[0;34m)\u001b[0m\u001b[0;34m:\u001b[0m\u001b[0;34m\u001b[0m\u001b[0;34m\u001b[0m\u001b[0m\n\u001b[0;32m-> 1682\u001b[0;31m                 \u001b[0;32myield\u001b[0m \u001b[0;32mfrom\u001b[0m \u001b[0mself\u001b[0m\u001b[0;34m.\u001b[0m\u001b[0m_retrieve\u001b[0m\u001b[0;34m(\u001b[0m\u001b[0;34m)\u001b[0m\u001b[0;34m\u001b[0m\u001b[0;34m\u001b[0m\u001b[0m\n\u001b[0m\u001b[1;32m   1683\u001b[0m \u001b[0;34m\u001b[0m\u001b[0m\n\u001b[1;32m   1684\u001b[0m         \u001b[0;32mexcept\u001b[0m \u001b[0mGeneratorExit\u001b[0m\u001b[0;34m:\u001b[0m\u001b[0;34m\u001b[0m\u001b[0;34m\u001b[0m\u001b[0m\n",
            "\u001b[0;32m/usr/local/lib/python3.12/dist-packages/joblib/parallel.py\u001b[0m in \u001b[0;36m_retrieve\u001b[0;34m(self)\u001b[0m\n\u001b[1;32m   1798\u001b[0m                     \u001b[0mself\u001b[0m\u001b[0;34m.\u001b[0m\u001b[0m_jobs\u001b[0m\u001b[0;34m[\u001b[0m\u001b[0;36m0\u001b[0m\u001b[0;34m]\u001b[0m\u001b[0;34m.\u001b[0m\u001b[0mget_status\u001b[0m\u001b[0;34m(\u001b[0m\u001b[0mtimeout\u001b[0m\u001b[0;34m=\u001b[0m\u001b[0mself\u001b[0m\u001b[0;34m.\u001b[0m\u001b[0mtimeout\u001b[0m\u001b[0;34m)\u001b[0m \u001b[0;34m==\u001b[0m \u001b[0mTASK_PENDING\u001b[0m\u001b[0;34m\u001b[0m\u001b[0;34m\u001b[0m\u001b[0m\n\u001b[1;32m   1799\u001b[0m                 ):\n\u001b[0;32m-> 1800\u001b[0;31m                     \u001b[0mtime\u001b[0m\u001b[0;34m.\u001b[0m\u001b[0msleep\u001b[0m\u001b[0;34m(\u001b[0m\u001b[0;36m0.01\u001b[0m\u001b[0;34m)\u001b[0m\u001b[0;34m\u001b[0m\u001b[0;34m\u001b[0m\u001b[0m\n\u001b[0m\u001b[1;32m   1801\u001b[0m                     \u001b[0;32mcontinue\u001b[0m\u001b[0;34m\u001b[0m\u001b[0;34m\u001b[0m\u001b[0m\n\u001b[1;32m   1802\u001b[0m \u001b[0;34m\u001b[0m\u001b[0m\n",
            "\u001b[0;31mKeyboardInterrupt\u001b[0m: "
          ]
        }
      ]
    },
    {
      "cell_type": "code",
      "source": [
        "train_sample = train.sample(200000, random_state=42)  # take 200k out of 1.6M\n",
        "\n",
        "X = train_sample.drop(columns=[\"target\"])\n",
        "y = train_sample[\"target\"]\n",
        "\n",
        "# Scale features\n",
        "scaler = StandardScaler()\n",
        "X_scaled = scaler.fit_transform(X)\n",
        "\n",
        "# Train/validation split\n",
        "X_train, X_val, y_train, y_val = train_test_split(\n",
        "    X_scaled, y, test_size=0.2, random_state=42, stratify=y\n",
        ")\n",
        "\n",
        "# =====================\n",
        "# Logistic Regression\n",
        "# =====================\n",
        "logreg = LogisticRegression(max_iter=500, solver=\"saga\", n_jobs=-1)\n",
        "logreg.fit(X_train, y_train)\n",
        "y_val_pred_log = logreg.predict(X_val)\n",
        "print(\"\\nLogistic Regression Report:\")\n",
        "print(classification_report(y_val, y_val_pred_log))\n",
        "print(\"ROC-AUC:\", roc_auc_score(y_val, logreg.predict_proba(X_val)[:, 1]))\n",
        "\n",
        "# =====================\n",
        "# Random Forest\n",
        "# =====================\n",
        "rf = RandomForestClassifier(\n",
        "    n_estimators=50, max_depth=15, random_state=42, n_jobs=-1\n",
        ")\n",
        "rf.fit(X_train, y_train)\n",
        "y_val_pred_rf = rf.predict(X_val)\n",
        "print(\"\\nRandom Forest Report:\")\n",
        "print(classification_report(y_val, y_val_pred_rf))\n",
        "print(\"ROC-AUC:\", roc_auc_score(y_val, rf.predict_proba(X_val)[:, 1]))"
      ],
      "metadata": {
        "colab": {
          "base_uri": "https://localhost:8080/"
        },
        "id": "0tTQzSC4HVyX",
        "outputId": "47abfb97-844c-43d1-b2c2-9289730d2b83"
      },
      "execution_count": 24,
      "outputs": [
        {
          "output_type": "stream",
          "name": "stdout",
          "text": [
            "\n",
            "Logistic Regression Report:\n",
            "              precision    recall  f1-score   support\n",
            "\n",
            "           0       1.00      1.00      1.00     39663\n",
            "           1       0.80      0.42      0.55       337\n",
            "\n",
            "    accuracy                           0.99     40000\n",
            "   macro avg       0.90      0.71      0.77     40000\n",
            "weighted avg       0.99      0.99      0.99     40000\n",
            "\n",
            "ROC-AUC: 0.9834548953269574\n",
            "\n",
            "Random Forest Report:\n",
            "              precision    recall  f1-score   support\n",
            "\n",
            "           0       1.00      1.00      1.00     39663\n",
            "           1       0.83      0.51      0.63       337\n",
            "\n",
            "    accuracy                           0.99     40000\n",
            "   macro avg       0.91      0.75      0.81     40000\n",
            "weighted avg       0.99      0.99      0.99     40000\n",
            "\n",
            "ROC-AUC: 0.9821057692962316\n"
          ]
        }
      ]
    },
    {
      "cell_type": "code",
      "source": [
        "import numpy as np\n",
        "import pandas as pd\n",
        "from sklearn.preprocessing import StandardScaler\n",
        "from sklearn.ensemble import RandomForestClassifier\n",
        "\n",
        "# --- Preprocess function (safe) ---\n",
        "def preprocess(df, is_train=True):\n",
        "    df = df.copy()\n",
        "\n",
        "    # If Date exists → extract features\n",
        "    if \"Date\" in df.columns:\n",
        "        df[\"Date\"] = pd.to_datetime(df[\"Date\"], errors=\"coerce\")\n",
        "        df[\"year\"] = df[\"Date\"].dt.year\n",
        "        df[\"month\"] = df[\"Date\"].dt.month\n",
        "        df[\"day\"] = df[\"Date\"].dt.day\n",
        "        df[\"hour\"] = df[\"Date\"].dt.hour\n",
        "        df.drop(columns=[\"Date\"], inplace=True)\n",
        "\n",
        "    # If X3/X4 exist → log transform them (overwrite)\n",
        "    if \"X3\" in df.columns:\n",
        "        df[\"X3\"] = np.log1p(df[\"X3\"])\n",
        "    if \"X4\" in df.columns:\n",
        "        df[\"X4\"] = np.log1p(df[\"X4\"])\n",
        "\n",
        "    # If training, drop target separately\n",
        "    if is_train and \"target\" in df.columns:\n",
        "        X = df.drop(columns=[\"target\"])\n",
        "        y = df[\"target\"]\n",
        "        return X, y\n",
        "    else:\n",
        "        return df\n",
        "\n",
        "\n",
        "# --- Apply preprocessing ---\n",
        "X, y = preprocess(train, is_train=True)\n",
        "test_proc = preprocess(test, is_train=False)\n",
        "\n",
        "# Align test columns with train (remove any mismatch, fill missing with 0)\n",
        "test_proc = test_proc.reindex(columns=X.columns, fill_value=0)\n",
        "\n",
        "# --- Scale ---\n",
        "scaler = StandardScaler()\n",
        "X_scaled = scaler.fit_transform(X)\n",
        "test_scaled = scaler.transform(test_proc)\n",
        "\n",
        "# --- Train final RF ---\n",
        "rf_full = RandomForestClassifier(\n",
        "    n_estimators=150, max_depth=15, random_state=42, n_jobs=-1\n",
        ")\n",
        "rf_full.fit(X_scaled, y)\n",
        "\n",
        "# --- Predict ---\n",
        "test_preds = rf_full.predict(test_scaled)\n",
        "\n",
        "# --- Submission ---\n",
        "submission = pd.DataFrame({\n",
        "    \"id\": np.arange(len(test_preds)),  # replace with sample_submission[\"id\"] if available\n",
        "    \"target\": test_preds\n",
        "})\n",
        "submission.to_csv(\"submission.csv\", index=False)\n",
        "print(\"✅ Submission file created: submission.csv\")\n"
      ],
      "metadata": {
        "colab": {
          "base_uri": "https://localhost:8080/"
        },
        "id": "wzALYGj9HqXr",
        "outputId": "f92b5055-7d51-4c88-a56f-217cc6314ebe"
      },
      "execution_count": 32,
      "outputs": [
        {
          "output_type": "stream",
          "name": "stdout",
          "text": [
            "✅ Submission file created: submission.csv\n"
          ]
        }
      ]
    },
    {
      "cell_type": "code",
      "source": [
        "# 1️⃣ Load sample submission\n",
        "sample_sub = pd.read_parquet(\"/content/dataset/sample_submission.parquet\")\n",
        "print(sample_sub.head())\n"
      ],
      "metadata": {
        "colab": {
          "base_uri": "https://localhost:8080/"
        },
        "id": "lWvthPn4OURW",
        "outputId": "8e16ece8-ddfc-4586-f3e3-9effaf82012e"
      },
      "execution_count": 38,
      "outputs": [
        {
          "output_type": "stream",
          "name": "stdout",
          "text": [
            "       ID target\n",
            "0  409856      0\n",
            "1  409857      0\n",
            "2  409858      0\n",
            "3  409859      0\n",
            "4  409860      0\n"
          ]
        }
      ]
    },
    {
      "cell_type": "code",
      "source": [
        "# Load test file\n",
        "test_df = pd.read_parquet(\"/content/dataset/test.parquet\")\n",
        "\n",
        "# Build final submission with correct length\n",
        "submission = pd.DataFrame({\n",
        "    \"ID\": test_df[\"ID\"],    # take IDs from full test set\n",
        "    \"target\": test_preds     # predictions you generated\n",
        "})\n",
        "\n",
        "submission.to_csv(\"submission.csv\", index=False)\n",
        "print(\"✅ submission.csv created with\", len(submission), \"rows\")\n"
      ],
      "metadata": {
        "colab": {
          "base_uri": "https://localhost:8080/"
        },
        "id": "1NgzelMsOdkI",
        "outputId": "484401a6-77a4-43ea-fa38-529946efb5a4"
      },
      "execution_count": 40,
      "outputs": [
        {
          "output_type": "stream",
          "name": "stdout",
          "text": [
            "✅ submission.csv created with 409856 rows\n"
          ]
        }
      ]
    },
    {
      "cell_type": "code",
      "source": [
        "# 🚀 End-to-End Safe LightGBM with Feature Alignment\n",
        "\n",
        "import pandas as pd\n",
        "import numpy as np\n",
        "from sklearn.model_selection import StratifiedKFold\n",
        "from sklearn.metrics import roc_auc_score\n",
        "from lightgbm import LGBMClassifier, early_stopping, log_evaluation\n",
        "\n",
        "# 1️⃣ Load Data\n",
        "train = pd.read_parquet(\"/content/dataset/train.parquet\")\n",
        "test = pd.read_parquet(\"/content/dataset/test.parquet\")\n",
        "sample_sub = pd.read_parquet(\"/content/dataset/sample_submission.parquet\")\n",
        "\n",
        "# 2️⃣ Target\n",
        "y = train[\"target\"]\n",
        "X = train.drop(columns=[\"target\"])\n",
        "\n",
        "# 3️⃣ Process datetime\n",
        "def process_datetime(df):\n",
        "    if \"Date\" in df.columns:\n",
        "        df[\"Date\"] = pd.to_datetime(df[\"Date\"], errors=\"coerce\")\n",
        "        df[\"year\"] = df[\"Date\"].dt.year\n",
        "        df[\"month\"] = df[\"Date\"].dt.month\n",
        "        df[\"day\"] = df[\"Date\"].dt.day\n",
        "        df[\"hour\"] = df[\"Date\"].dt.hour\n",
        "        df.drop(columns=[\"Date\"], inplace=True)\n",
        "    return df\n",
        "\n",
        "X = process_datetime(X)\n",
        "test = process_datetime(test)\n",
        "\n",
        "# 4️⃣ Encode categoricals (factorize consistently)\n",
        "for col in X.select_dtypes(include=[\"object\"]).columns:\n",
        "    X[col], uniques = pd.factorize(X[col])\n",
        "    test[col] = pd.Categorical(test[col], categories=uniques).codes\n",
        "\n",
        "# 5️⃣ Align columns between train and test\n",
        "test = test.reindex(columns=X.columns, fill_value=0)\n",
        "\n",
        "# 6️⃣ LightGBM Training with 5-Fold CV\n",
        "oof_preds = np.zeros(len(X))\n",
        "test_preds = np.zeros(len(test))\n",
        "\n",
        "skf = StratifiedKFold(n_splits=5, shuffle=True, random_state=42)\n",
        "\n",
        "for fold, (train_idx, valid_idx) in enumerate(skf.split(X, y)):\n",
        "    X_train, X_valid = X.iloc[train_idx], X.iloc[valid_idx]\n",
        "    y_train, y_valid = y.iloc[train_idx], y.iloc[valid_idx]\n",
        "\n",
        "    model = LGBMClassifier(\n",
        "        n_estimators=2000,\n",
        "        learning_rate=0.03,\n",
        "        max_depth=-1,\n",
        "        colsample_bytree=0.8,\n",
        "        subsample=0.8,\n",
        "        random_state=42,\n",
        "        n_jobs=-1,\n",
        "        objective=\"binary\"\n",
        "    )\n",
        "\n",
        "    model.fit(\n",
        "        X_train, y_train,\n",
        "        eval_set=[(X_valid, y_valid)],\n",
        "        eval_metric=\"auc\",\n",
        "        callbacks=[\n",
        "            early_stopping(stopping_rounds=100),\n",
        "            log_evaluation(100)\n",
        "        ]\n",
        "    )\n",
        "\n",
        "    oof_preds[valid_idx] = model.predict_proba(X_valid)[:, 1]\n",
        "    test_preds += model.predict_proba(test)[:, 1] / skf.n_splits\n",
        "\n",
        "print(\"✅ OOF AUC:\", roc_auc_score(y, oof_preds))\n",
        "\n",
        "# 7️⃣ Submission\n",
        "submission = pd.DataFrame({\n",
        "    \"ID\": sample_sub[\"ID\"],   # exact Kaggle format\n",
        "    \"target\": test_preds\n",
        "})\n",
        "\n",
        "submission.to_csv(\"/content/submission.csv\", index=False)\n",
        "print(\"🎯 submission.csv ready! Upload to Kaggle.\")\n"
      ],
      "metadata": {
        "colab": {
          "base_uri": "https://localhost:8080/",
          "height": 1000
        },
        "id": "zWK_ahd1PZcX",
        "outputId": "0b0f43f1-a163-4134-88a1-f8e920b71a32"
      },
      "execution_count": 47,
      "outputs": [
        {
          "output_type": "stream",
          "name": "stdout",
          "text": [
            "[LightGBM] [Info] Number of positive: 11231, number of negative: 1300308\n",
            "[LightGBM] [Info] Auto-choosing row-wise multi-threading, the overhead of testing was 0.030214 seconds.\n",
            "You can set `force_row_wise=true` to remove the overhead.\n",
            "And if memory is not enough, you can set `force_col_wise=true`.\n",
            "[LightGBM] [Info] Total Bins 736\n",
            "[LightGBM] [Info] Number of data points in the train set: 1311539, number of used features: 8\n",
            "[LightGBM] [Info] [binary:BoostFromScore]: pavg=0.008563 -> initscore=-4.751679\n",
            "[LightGBM] [Info] Start training from score -4.751679\n",
            "Training until validation scores don't improve for 100 rounds\n",
            "[100]\tvalid_0's auc: 0.987808\tvalid_0's binary_logloss: 0.0158596\n",
            "[200]\tvalid_0's auc: 0.989511\tvalid_0's binary_logloss: 0.0144305\n",
            "[300]\tvalid_0's auc: 0.990241\tvalid_0's binary_logloss: 0.0139194\n",
            "[400]\tvalid_0's auc: 0.990525\tvalid_0's binary_logloss: 0.0136485\n",
            "[500]\tvalid_0's auc: 0.990376\tvalid_0's binary_logloss: 0.0138643\n",
            "Early stopping, best iteration is:\n",
            "[452]\tvalid_0's auc: 0.990592\tvalid_0's binary_logloss: 0.0135739\n",
            "[LightGBM] [Info] Number of positive: 11230, number of negative: 1300309\n",
            "[LightGBM] [Info] Auto-choosing col-wise multi-threading, the overhead of testing was 0.138848 seconds.\n",
            "You can set `force_col_wise=true` to remove the overhead.\n",
            "[LightGBM] [Info] Total Bins 745\n",
            "[LightGBM] [Info] Number of data points in the train set: 1311539, number of used features: 8\n",
            "[LightGBM] [Info] [binary:BoostFromScore]: pavg=0.008562 -> initscore=-4.751768\n",
            "[LightGBM] [Info] Start training from score -4.751768\n",
            "Training until validation scores don't improve for 100 rounds\n",
            "[100]\tvalid_0's auc: 0.989137\tvalid_0's binary_logloss: 0.0153355\n",
            "[200]\tvalid_0's auc: 0.990829\tvalid_0's binary_logloss: 0.0140157\n",
            "[300]\tvalid_0's auc: 0.991463\tvalid_0's binary_logloss: 0.0134963\n",
            "[400]\tvalid_0's auc: 0.991829\tvalid_0's binary_logloss: 0.0132042\n",
            "[500]\tvalid_0's auc: 0.992081\tvalid_0's binary_logloss: 0.0129509\n",
            "[600]\tvalid_0's auc: 0.992181\tvalid_0's binary_logloss: 0.0128744\n",
            "[700]\tvalid_0's auc: 0.992331\tvalid_0's binary_logloss: 0.0127309\n",
            "[800]\tvalid_0's auc: 0.992381\tvalid_0's binary_logloss: 0.0127452\n",
            "Early stopping, best iteration is:\n",
            "[719]\tvalid_0's auc: 0.992348\tvalid_0's binary_logloss: 0.0126977\n",
            "[LightGBM] [Info] Number of positive: 11230, number of negative: 1300309\n",
            "[LightGBM] [Info] Auto-choosing col-wise multi-threading, the overhead of testing was 0.163173 seconds.\n",
            "You can set `force_col_wise=true` to remove the overhead.\n",
            "[LightGBM] [Info] Total Bins 743\n",
            "[LightGBM] [Info] Number of data points in the train set: 1311539, number of used features: 8\n",
            "[LightGBM] [Info] [binary:BoostFromScore]: pavg=0.008562 -> initscore=-4.751768\n",
            "[LightGBM] [Info] Start training from score -4.751768\n",
            "Training until validation scores don't improve for 100 rounds\n",
            "[100]\tvalid_0's auc: 0.988785\tvalid_0's binary_logloss: 0.0157057\n",
            "[200]\tvalid_0's auc: 0.990285\tvalid_0's binary_logloss: 0.0143134\n",
            "[300]\tvalid_0's auc: 0.990508\tvalid_0's binary_logloss: 0.0140357\n",
            "[400]\tvalid_0's auc: 0.990808\tvalid_0's binary_logloss: 0.0136599\n",
            "[500]\tvalid_0's auc: 0.991009\tvalid_0's binary_logloss: 0.0135911\n",
            "Early stopping, best iteration is:\n",
            "[452]\tvalid_0's auc: 0.990954\tvalid_0's binary_logloss: 0.013502\n",
            "[LightGBM] [Info] Number of positive: 11230, number of negative: 1300309\n",
            "[LightGBM] [Info] Auto-choosing row-wise multi-threading, the overhead of testing was 0.060486 seconds.\n",
            "You can set `force_row_wise=true` to remove the overhead.\n",
            "And if memory is not enough, you can set `force_col_wise=true`.\n",
            "[LightGBM] [Info] Total Bins 746\n",
            "[LightGBM] [Info] Number of data points in the train set: 1311539, number of used features: 8\n",
            "[LightGBM] [Info] [binary:BoostFromScore]: pavg=0.008562 -> initscore=-4.751768\n",
            "[LightGBM] [Info] Start training from score -4.751768\n",
            "Training until validation scores don't improve for 100 rounds\n",
            "[100]\tvalid_0's auc: 0.988555\tvalid_0's binary_logloss: 0.015692\n",
            "[200]\tvalid_0's auc: 0.990194\tvalid_0's binary_logloss: 0.0142214\n",
            "[300]\tvalid_0's auc: 0.99075\tvalid_0's binary_logloss: 0.0138165\n",
            "[400]\tvalid_0's auc: 0.991003\tvalid_0's binary_logloss: 0.0134731\n",
            "[500]\tvalid_0's auc: 0.991217\tvalid_0's binary_logloss: 0.0132205\n",
            "[600]\tvalid_0's auc: 0.991419\tvalid_0's binary_logloss: 0.0130186\n",
            "[700]\tvalid_0's auc: 0.991566\tvalid_0's binary_logloss: 0.012822\n",
            "[800]\tvalid_0's auc: 0.991634\tvalid_0's binary_logloss: 0.0127401\n",
            "Early stopping, best iteration is:\n",
            "[767]\tvalid_0's auc: 0.991666\tvalid_0's binary_logloss: 0.0127824\n",
            "[LightGBM] [Info] Number of positive: 11231, number of negative: 1300309\n",
            "[LightGBM] [Info] Auto-choosing row-wise multi-threading, the overhead of testing was 0.030896 seconds.\n",
            "You can set `force_row_wise=true` to remove the overhead.\n",
            "And if memory is not enough, you can set `force_col_wise=true`.\n",
            "[LightGBM] [Info] Total Bins 746\n",
            "[LightGBM] [Info] Number of data points in the train set: 1311540, number of used features: 8\n",
            "[LightGBM] [Info] [binary:BoostFromScore]: pavg=0.008563 -> initscore=-4.751679\n",
            "[LightGBM] [Info] Start training from score -4.751679\n",
            "Training until validation scores don't improve for 100 rounds\n",
            "[100]\tvalid_0's auc: 0.988036\tvalid_0's binary_logloss: 0.0159604\n",
            "[200]\tvalid_0's auc: 0.989877\tvalid_0's binary_logloss: 0.0146268\n",
            "[300]\tvalid_0's auc: 0.990622\tvalid_0's binary_logloss: 0.0141443\n",
            "[400]\tvalid_0's auc: 0.990788\tvalid_0's binary_logloss: 0.014065\n",
            "[500]\tvalid_0's auc: 0.990868\tvalid_0's binary_logloss: 0.013923\n",
            "[600]\tvalid_0's auc: 0.991045\tvalid_0's binary_logloss: 0.0138444\n",
            "[700]\tvalid_0's auc: 0.991241\tvalid_0's binary_logloss: 0.0136419\n",
            "[800]\tvalid_0's auc: 0.991401\tvalid_0's binary_logloss: 0.0135395\n",
            "[900]\tvalid_0's auc: 0.991548\tvalid_0's binary_logloss: 0.0133877\n",
            "[1000]\tvalid_0's auc: 0.991612\tvalid_0's binary_logloss: 0.013294\n",
            "[1100]\tvalid_0's auc: 0.991773\tvalid_0's binary_logloss: 0.0131822\n",
            "[1200]\tvalid_0's auc: 0.9919\tvalid_0's binary_logloss: 0.013064\n",
            "[1300]\tvalid_0's auc: 0.991966\tvalid_0's binary_logloss: 0.0129745\n",
            "[1400]\tvalid_0's auc: 0.992026\tvalid_0's binary_logloss: 0.0129023\n",
            "[1500]\tvalid_0's auc: 0.992098\tvalid_0's binary_logloss: 0.0128442\n",
            "[1600]\tvalid_0's auc: 0.992121\tvalid_0's binary_logloss: 0.0128839\n",
            "Early stopping, best iteration is:\n",
            "[1557]\tvalid_0's auc: 0.992132\tvalid_0's binary_logloss: 0.0127728\n",
            "✅ OOF AUC: 0.9915009459402399\n"
          ]
        },
        {
          "output_type": "error",
          "ename": "ValueError",
          "evalue": "array length 409856 does not match index length 50",
          "traceback": [
            "\u001b[0;31m---------------------------------------------------------------------------\u001b[0m",
            "\u001b[0;31mValueError\u001b[0m                                Traceback (most recent call last)",
            "\u001b[0;32m/tmp/ipython-input-2459369422.py\u001b[0m in \u001b[0;36m<cell line: 0>\u001b[0;34m()\u001b[0m\n\u001b[1;32m     75\u001b[0m \u001b[0;34m\u001b[0m\u001b[0m\n\u001b[1;32m     76\u001b[0m \u001b[0;31m# 7️⃣ Submission\u001b[0m\u001b[0;34m\u001b[0m\u001b[0;34m\u001b[0m\u001b[0m\n\u001b[0;32m---> 77\u001b[0;31m submission = pd.DataFrame({\n\u001b[0m\u001b[1;32m     78\u001b[0m     \u001b[0;34m\"ID\"\u001b[0m\u001b[0;34m:\u001b[0m \u001b[0msample_sub\u001b[0m\u001b[0;34m[\u001b[0m\u001b[0;34m\"ID\"\u001b[0m\u001b[0;34m]\u001b[0m\u001b[0;34m,\u001b[0m   \u001b[0;31m# exact Kaggle format\u001b[0m\u001b[0;34m\u001b[0m\u001b[0;34m\u001b[0m\u001b[0m\n\u001b[1;32m     79\u001b[0m     \u001b[0;34m\"target\"\u001b[0m\u001b[0;34m:\u001b[0m \u001b[0mtest_preds\u001b[0m\u001b[0;34m\u001b[0m\u001b[0;34m\u001b[0m\u001b[0m\n",
            "\u001b[0;32m/usr/local/lib/python3.12/dist-packages/pandas/core/frame.py\u001b[0m in \u001b[0;36m__init__\u001b[0;34m(self, data, index, columns, dtype, copy)\u001b[0m\n\u001b[1;32m    776\u001b[0m         \u001b[0;32melif\u001b[0m \u001b[0misinstance\u001b[0m\u001b[0;34m(\u001b[0m\u001b[0mdata\u001b[0m\u001b[0;34m,\u001b[0m \u001b[0mdict\u001b[0m\u001b[0;34m)\u001b[0m\u001b[0;34m:\u001b[0m\u001b[0;34m\u001b[0m\u001b[0;34m\u001b[0m\u001b[0m\n\u001b[1;32m    777\u001b[0m             \u001b[0;31m# GH#38939 de facto copy defaults to False only in non-dict cases\u001b[0m\u001b[0;34m\u001b[0m\u001b[0;34m\u001b[0m\u001b[0m\n\u001b[0;32m--> 778\u001b[0;31m             \u001b[0mmgr\u001b[0m \u001b[0;34m=\u001b[0m \u001b[0mdict_to_mgr\u001b[0m\u001b[0;34m(\u001b[0m\u001b[0mdata\u001b[0m\u001b[0;34m,\u001b[0m \u001b[0mindex\u001b[0m\u001b[0;34m,\u001b[0m \u001b[0mcolumns\u001b[0m\u001b[0;34m,\u001b[0m \u001b[0mdtype\u001b[0m\u001b[0;34m=\u001b[0m\u001b[0mdtype\u001b[0m\u001b[0;34m,\u001b[0m \u001b[0mcopy\u001b[0m\u001b[0;34m=\u001b[0m\u001b[0mcopy\u001b[0m\u001b[0;34m,\u001b[0m \u001b[0mtyp\u001b[0m\u001b[0;34m=\u001b[0m\u001b[0mmanager\u001b[0m\u001b[0;34m)\u001b[0m\u001b[0;34m\u001b[0m\u001b[0;34m\u001b[0m\u001b[0m\n\u001b[0m\u001b[1;32m    779\u001b[0m         \u001b[0;32melif\u001b[0m \u001b[0misinstance\u001b[0m\u001b[0;34m(\u001b[0m\u001b[0mdata\u001b[0m\u001b[0;34m,\u001b[0m \u001b[0mma\u001b[0m\u001b[0;34m.\u001b[0m\u001b[0mMaskedArray\u001b[0m\u001b[0;34m)\u001b[0m\u001b[0;34m:\u001b[0m\u001b[0;34m\u001b[0m\u001b[0;34m\u001b[0m\u001b[0m\n\u001b[1;32m    780\u001b[0m             \u001b[0;32mfrom\u001b[0m \u001b[0mnumpy\u001b[0m\u001b[0;34m.\u001b[0m\u001b[0mma\u001b[0m \u001b[0;32mimport\u001b[0m \u001b[0mmrecords\u001b[0m\u001b[0;34m\u001b[0m\u001b[0;34m\u001b[0m\u001b[0m\n",
            "\u001b[0;32m/usr/local/lib/python3.12/dist-packages/pandas/core/internals/construction.py\u001b[0m in \u001b[0;36mdict_to_mgr\u001b[0;34m(data, index, columns, dtype, typ, copy)\u001b[0m\n\u001b[1;32m    501\u001b[0m             \u001b[0marrays\u001b[0m \u001b[0;34m=\u001b[0m \u001b[0;34m[\u001b[0m\u001b[0mx\u001b[0m\u001b[0;34m.\u001b[0m\u001b[0mcopy\u001b[0m\u001b[0;34m(\u001b[0m\u001b[0;34m)\u001b[0m \u001b[0;32mif\u001b[0m \u001b[0mhasattr\u001b[0m\u001b[0;34m(\u001b[0m\u001b[0mx\u001b[0m\u001b[0;34m,\u001b[0m \u001b[0;34m\"dtype\"\u001b[0m\u001b[0;34m)\u001b[0m \u001b[0;32melse\u001b[0m \u001b[0mx\u001b[0m \u001b[0;32mfor\u001b[0m \u001b[0mx\u001b[0m \u001b[0;32min\u001b[0m \u001b[0marrays\u001b[0m\u001b[0;34m]\u001b[0m\u001b[0;34m\u001b[0m\u001b[0;34m\u001b[0m\u001b[0m\n\u001b[1;32m    502\u001b[0m \u001b[0;34m\u001b[0m\u001b[0m\n\u001b[0;32m--> 503\u001b[0;31m     \u001b[0;32mreturn\u001b[0m \u001b[0marrays_to_mgr\u001b[0m\u001b[0;34m(\u001b[0m\u001b[0marrays\u001b[0m\u001b[0;34m,\u001b[0m \u001b[0mcolumns\u001b[0m\u001b[0;34m,\u001b[0m \u001b[0mindex\u001b[0m\u001b[0;34m,\u001b[0m \u001b[0mdtype\u001b[0m\u001b[0;34m=\u001b[0m\u001b[0mdtype\u001b[0m\u001b[0;34m,\u001b[0m \u001b[0mtyp\u001b[0m\u001b[0;34m=\u001b[0m\u001b[0mtyp\u001b[0m\u001b[0;34m,\u001b[0m \u001b[0mconsolidate\u001b[0m\u001b[0;34m=\u001b[0m\u001b[0mcopy\u001b[0m\u001b[0;34m)\u001b[0m\u001b[0;34m\u001b[0m\u001b[0;34m\u001b[0m\u001b[0m\n\u001b[0m\u001b[1;32m    504\u001b[0m \u001b[0;34m\u001b[0m\u001b[0m\n\u001b[1;32m    505\u001b[0m \u001b[0;34m\u001b[0m\u001b[0m\n",
            "\u001b[0;32m/usr/local/lib/python3.12/dist-packages/pandas/core/internals/construction.py\u001b[0m in \u001b[0;36marrays_to_mgr\u001b[0;34m(arrays, columns, index, dtype, verify_integrity, typ, consolidate)\u001b[0m\n\u001b[1;32m    112\u001b[0m         \u001b[0;31m# figure out the index, if necessary\u001b[0m\u001b[0;34m\u001b[0m\u001b[0;34m\u001b[0m\u001b[0m\n\u001b[1;32m    113\u001b[0m         \u001b[0;32mif\u001b[0m \u001b[0mindex\u001b[0m \u001b[0;32mis\u001b[0m \u001b[0;32mNone\u001b[0m\u001b[0;34m:\u001b[0m\u001b[0;34m\u001b[0m\u001b[0;34m\u001b[0m\u001b[0m\n\u001b[0;32m--> 114\u001b[0;31m             \u001b[0mindex\u001b[0m \u001b[0;34m=\u001b[0m \u001b[0m_extract_index\u001b[0m\u001b[0;34m(\u001b[0m\u001b[0marrays\u001b[0m\u001b[0;34m)\u001b[0m\u001b[0;34m\u001b[0m\u001b[0;34m\u001b[0m\u001b[0m\n\u001b[0m\u001b[1;32m    115\u001b[0m         \u001b[0;32melse\u001b[0m\u001b[0;34m:\u001b[0m\u001b[0;34m\u001b[0m\u001b[0;34m\u001b[0m\u001b[0m\n\u001b[1;32m    116\u001b[0m             \u001b[0mindex\u001b[0m \u001b[0;34m=\u001b[0m \u001b[0mensure_index\u001b[0m\u001b[0;34m(\u001b[0m\u001b[0mindex\u001b[0m\u001b[0;34m)\u001b[0m\u001b[0;34m\u001b[0m\u001b[0;34m\u001b[0m\u001b[0m\n",
            "\u001b[0;32m/usr/local/lib/python3.12/dist-packages/pandas/core/internals/construction.py\u001b[0m in \u001b[0;36m_extract_index\u001b[0;34m(data)\u001b[0m\n\u001b[1;32m    688\u001b[0m                     \u001b[0;34mf\"length {len(index)}\"\u001b[0m\u001b[0;34m\u001b[0m\u001b[0;34m\u001b[0m\u001b[0m\n\u001b[1;32m    689\u001b[0m                 )\n\u001b[0;32m--> 690\u001b[0;31m                 \u001b[0;32mraise\u001b[0m \u001b[0mValueError\u001b[0m\u001b[0;34m(\u001b[0m\u001b[0mmsg\u001b[0m\u001b[0;34m)\u001b[0m\u001b[0;34m\u001b[0m\u001b[0;34m\u001b[0m\u001b[0m\n\u001b[0m\u001b[1;32m    691\u001b[0m         \u001b[0;32melse\u001b[0m\u001b[0;34m:\u001b[0m\u001b[0;34m\u001b[0m\u001b[0;34m\u001b[0m\u001b[0m\n\u001b[1;32m    692\u001b[0m             \u001b[0mindex\u001b[0m \u001b[0;34m=\u001b[0m \u001b[0mdefault_index\u001b[0m\u001b[0;34m(\u001b[0m\u001b[0mlengths\u001b[0m\u001b[0;34m[\u001b[0m\u001b[0;36m0\u001b[0m\u001b[0;34m]\u001b[0m\u001b[0;34m)\u001b[0m\u001b[0;34m\u001b[0m\u001b[0;34m\u001b[0m\u001b[0m\n",
            "\u001b[0;31mValueError\u001b[0m: array length 409856 does not match index length 50"
          ]
        }
      ]
    },
    {
      "cell_type": "code",
      "source": [
        "import pandas as pd\n",
        "\n",
        "# Convert probabilities to binary (0/1) with threshold 0.5\n",
        "test_preds_binary = (test_preds >= 0.5).astype(int)\n",
        "\n",
        "# Load test file to get IDs\n",
        "test = pd.read_parquet(\"dataset/test.parquet\")\n",
        "\n",
        "# Build submission\n",
        "submission = pd.DataFrame({\n",
        "    \"ID\": test[\"ID\"],\n",
        "    \"target\": test_preds_binary\n",
        "})\n",
        "\n",
        "# Save to CSV\n",
        "submission.to_csv(\"submission.csv\", index=False)\n",
        "print(\"✅ Submission saved as submission.csv with shape:\", submission.shape)\n"
      ],
      "metadata": {
        "colab": {
          "base_uri": "https://localhost:8080/"
        },
        "id": "6Iwyc9j7Vcn-",
        "outputId": "5fd27db7-5567-45c3-f95d-13eba3e2dd31"
      },
      "execution_count": 51,
      "outputs": [
        {
          "output_type": "stream",
          "name": "stdout",
          "text": [
            "✅ Submission saved as submission.csv with shape: (409856, 2)\n"
          ]
        }
      ]
    }
  ]
}